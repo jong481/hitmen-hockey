{
 "cells": [
  {
   "cell_type": "code",
   "execution_count": null,
   "metadata": {},
   "outputs": [],
   "source": [
    "\"\"\"Sample load for Calgary Hitmen Data\n",
    "\n",
    "#db - Hitmen_Hockey\n",
    "#user - hitmen_hockey\n",
    "\n",
    "\"\"\""
   ]
  },
  {
   "cell_type": "code",
   "execution_count": 1,
   "metadata": {},
   "outputs": [],
   "source": [
    "app = 'hitmen_hockey_raw_data_load'"
   ]
  },
  {
   "cell_type": "code",
   "execution_count": 27,
   "metadata": {
    "ExecuteTime": {
     "end_time": "2019-03-05T15:29:31.608542Z",
     "start_time": "2019-03-05T15:29:31.004097Z"
    }
   },
   "outputs": [],
   "source": [
    "import pandas as pd\n",
    "import json\n",
    "import sys\n",
    "import time\n",
    "import datetime\n",
    "\n",
    "sys.path.append(r'../nhl-stats/utilities/py')\n",
    "\n",
    "sys.path.append('../')\n",
    "\n",
    "import settings\n",
    "\n",
    "db = settings.database['local']"
   ]
  },
  {
   "cell_type": "code",
   "execution_count": 28,
   "metadata": {},
   "outputs": [
    {
     "name": "stderr",
     "output_type": "stream",
     "text": [
      "/anaconda3/lib/python3.7/site-packages/psycopg2/__init__.py:144: UserWarning: The psycopg2 wheel package will be renamed from release 2.8; in order to keep installing from binary please use \"pip install psycopg2-binary\" instead. For details see: <http://initd.org/psycopg/docs/install.html#binary-install-from-pypi>.\n",
      "  \"\"\")\n"
     ]
    }
   ],
   "source": [
    "from sqlalchemy import create_engine\n",
    "engine = create_engine('postgresql://{0}:{1}@{2}:{3}/{4}'.format(db['user'], db['pass'], db['host'], db['port'], db['db']))"
   ]
  },
  {
   "cell_type": "code",
   "execution_count": 24,
   "metadata": {
    "ExecuteTime": {
     "end_time": "2019-03-05T15:29:32.476394Z",
     "start_time": "2019-03-05T15:29:31.878504Z"
    }
   },
   "outputs": [],
   "source": [
    "df = pd.read_csv(r'Sample Data/raw_data.csv')"
   ]
  },
  {
   "cell_type": "code",
   "execution_count": 25,
   "metadata": {},
   "outputs": [],
   "source": [
    "df = df.rename(index=str, columns={\"CLOCKINSECONDS (X)\": \"CLOCKINSECONDS_X\", \"CLOCKOUTSECONDS (Y)\": \"CLOCKOUTSECONDS_Y\"})"
   ]
  },
  {
   "cell_type": "code",
   "execution_count": 29,
   "metadata": {},
   "outputs": [],
   "source": [
    "df.to_sql('hitmen_hockey_03062019', engine, if_exists='replace')"
   ]
  },
  {
   "cell_type": "code",
   "execution_count": null,
   "metadata": {},
   "outputs": [],
   "source": []
  },
  {
   "cell_type": "code",
   "execution_count": 30,
   "metadata": {},
   "outputs": [],
   "source": [
    "# Get Player Values\n",
    "player_values = df['Player Participation Offense'].values"
   ]
  },
  {
   "cell_type": "code",
   "execution_count": 31,
   "metadata": {},
   "outputs": [],
   "source": [
    "player_list_master = set()"
   ]
  },
  {
   "cell_type": "code",
   "execution_count": 32,
   "metadata": {},
   "outputs": [],
   "source": [
    "import numpy as np"
   ]
  },
  {
   "cell_type": "code",
   "execution_count": 33,
   "metadata": {},
   "outputs": [],
   "source": [
    "for p in player_values:\n",
    "    if p is not np.nan:\n",
    "        for player in p.split(','):\n",
    "            player_list_master.add(player.strip())"
   ]
  },
  {
   "cell_type": "code",
   "execution_count": 36,
   "metadata": {},
   "outputs": [],
   "source": [
    "player_list_master.remove('Player Participation Offense')"
   ]
  },
  {
   "cell_type": "code",
   "execution_count": 42,
   "metadata": {},
   "outputs": [],
   "source": [
    "player_list_master = list(player_list_master)"
   ]
  },
  {
   "cell_type": "code",
   "execution_count": 45,
   "metadata": {},
   "outputs": [
    {
     "data": {
      "text/plain": [
       "['28 Weisblatt',\n",
       " '11 Zimmerman',\n",
       " '3 Viggars',\n",
       " '6 Prokop',\n",
       " '28 Malm',\n",
       " '32 Galloway',\n",
       " '27 Carriere',\n",
       " '23 Huber',\n",
       " '22 Wiesblatt',\n",
       " '5 van de Leest',\n",
       " '4 Toder',\n",
       " '18 Stotts',\n",
       " '2 Krebs',\n",
       " '24 Coleman',\n",
       " '3 Schmiemann',\n",
       " '10 Prokop',\n",
       " '15 Tschigerl',\n",
       " '16 Kryski',\n",
       " '25 Funk',\n",
       " '14 Korczak',\n",
       " '8 Yeryomenko',\n",
       " '7 Klassen',\n",
       " '22 Bader',\n",
       " '15 Nielsen',\n",
       " '12 Kastelic',\n",
       " '29 Elder',\n",
       " '9 Zamula',\n",
       " '21 Fiddler Schultz',\n",
       " '22 Weisblatt',\n",
       " '19 Focht',\n",
       " '17 Campbell']"
      ]
     },
     "execution_count": 45,
     "metadata": {},
     "output_type": "execute_result"
    }
   ],
   "source": [
    "player_list_master"
   ]
  },
  {
   "cell_type": "code",
   "execution_count": null,
   "metadata": {},
   "outputs": [],
   "source": []
  }
 ],
 "metadata": {
  "kernelspec": {
   "display_name": "Python 3",
   "language": "python",
   "name": "python3"
  },
  "language_info": {
   "codemirror_mode": {
    "name": "ipython",
    "version": 3
   },
   "file_extension": ".py",
   "mimetype": "text/x-python",
   "name": "python",
   "nbconvert_exporter": "python",
   "pygments_lexer": "ipython3",
   "version": "3.7.1"
  },
  "varInspector": {
   "cols": {
    "lenName": 16,
    "lenType": 16,
    "lenVar": 40
   },
   "kernels_config": {
    "python": {
     "delete_cmd_postfix": "",
     "delete_cmd_prefix": "del ",
     "library": "var_list.py",
     "varRefreshCmd": "print(var_dic_list())"
    },
    "r": {
     "delete_cmd_postfix": ") ",
     "delete_cmd_prefix": "rm(",
     "library": "var_list.r",
     "varRefreshCmd": "cat(var_dic_list()) "
    }
   },
   "types_to_exclude": [
    "module",
    "function",
    "builtin_function_or_method",
    "instance",
    "_Feature"
   ],
   "window_display": false
  }
 },
 "nbformat": 4,
 "nbformat_minor": 2
}
