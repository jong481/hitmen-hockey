{
 "cells": [
  {
   "cell_type": "code",
   "execution_count": null,
   "metadata": {},
   "outputs": [],
   "source": [
    "#https://github.com/plotly/dash-recipes"
   ]
  },
  {
   "cell_type": "code",
   "execution_count": 10,
   "metadata": {},
   "outputs": [],
   "source": [
    "import jupyterlab_dash\n",
    "import dash\n",
    "import dash_html_components as html\n",
    "import dash_core_components as dcc\n",
    "from dash.dependencies import Input, Output"
   ]
  },
  {
   "cell_type": "code",
   "execution_count": 11,
   "metadata": {},
   "outputs": [],
   "source": [
    "viewer = jupyterlab_dash.AppViewer()\n",
    "app = dash.Dash(__name__)"
   ]
  },
  {
   "cell_type": "code",
   "execution_count": 12,
   "metadata": {},
   "outputs": [],
   "source": [
    "app.layout = html.Div([\n",
    "    html.Button(id='button', n_clicks=0, children='Add graph'),\n",
    "    html.Div(id='container'),\n",
    "    html.Div(dcc.Graph(id='empty', figure={'data': []}), style={'display': 'none'})\n",
    "])\n",
    "\n",
    "\n",
    "@app.callback(Output('container', 'children'), [Input('button', 'n_clicks')])\n",
    "def display_graphs(n_clicks):\n",
    "    graphs = []\n",
    "    for i in range(n_clicks):\n",
    "        graphs.append(dcc.Graph(\n",
    "            id='graph-{}'.format(i),\n",
    "            figure={\n",
    "                'data': [{\n",
    "                    'x': [1, 2, 3],\n",
    "                    'y': [3, 1, 2]\n",
    "                }],\n",
    "                'layout': {\n",
    "                    'title': 'Graph {}'.format(i)\n",
    "                }\n",
    "            }\n",
    "        ))\n",
    "    return html.Div(graphs)"
   ]
  },
  {
   "cell_type": "code",
   "execution_count": 13,
   "metadata": {},
   "outputs": [],
   "source": [
    "viewer.show(app)"
   ]
  },
  {
   "cell_type": "code",
   "execution_count": null,
   "metadata": {},
   "outputs": [],
   "source": []
  }
 ],
 "metadata": {
  "kernelspec": {
   "display_name": "Python 3",
   "language": "python",
   "name": "python3"
  },
  "language_info": {
   "codemirror_mode": {
    "name": "ipython",
    "version": 3
   },
   "file_extension": ".py",
   "mimetype": "text/x-python",
   "name": "python",
   "nbconvert_exporter": "python",
   "pygments_lexer": "ipython3",
   "version": "3.7.1"
  }
 },
 "nbformat": 4,
 "nbformat_minor": 2
}
