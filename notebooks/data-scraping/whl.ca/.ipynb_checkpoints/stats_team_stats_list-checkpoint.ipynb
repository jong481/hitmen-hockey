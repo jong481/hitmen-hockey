{
 "cells": [
  {
   "cell_type": "code",
   "execution_count": 1,
   "metadata": {},
   "outputs": [],
   "source": [
    "import pandas as pd\n",
    "import numpy as np\n",
    "import sys\n",
    "sys.path.append('../../../')\n",
    "\n",
    "import settings as st\n",
    "import datetime"
   ]
  },
  {
   "cell_type": "code",
   "execution_count": 2,
   "metadata": {},
   "outputs": [],
   "source": [
    "sys.path.append('../../../production/data-scraping/utilities')\n",
    "\n",
    "import web_utilities as wu\n",
    "import database_utilities as du\n",
    "import encoder_utilities as eu\n",
    "import pd_utilities as pu"
   ]
  },
  {
   "cell_type": "code",
   "execution_count": 3,
   "metadata": {},
   "outputs": [],
   "source": [
    "import pandas as pd\n",
    "pd.set_option('display.max_rows', 500)\n",
    "pd.set_option('display.max_columns', 500)\n",
    "pd.set_option('display.width', 1000)"
   ]
  },
  {
   "cell_type": "code",
   "execution_count": 4,
   "metadata": {},
   "outputs": [],
   "source": [
    "db_host = st.database['local']['host']\n",
    "db_port = st.database['local']['port']\n",
    "db_user = st.database['local']['user']\n",
    "db_pass = st.database['local']['pass']\n",
    "db_sys = st.database['local']['system']\n",
    "db_db = st.database['local']['db']"
   ]
  },
  {
   "cell_type": "code",
   "execution_count": 5,
   "metadata": {},
   "outputs": [
    {
     "name": "stdout",
     "output_type": "stream",
     "text": [
      "START PROCESS: 2019-06-08 19:46:46.423720\n"
     ]
    }
   ],
   "source": [
    "print(\"START PROCESS: \" + str(datetime.datetime.now()))"
   ]
  },
  {
   "cell_type": "code",
   "execution_count": 6,
   "metadata": {},
   "outputs": [],
   "source": [
    "key = \"41b145a848f4bd67\""
   ]
  },
  {
   "cell_type": "code",
   "execution_count": 7,
   "metadata": {},
   "outputs": [
    {
     "data": {
      "text/plain": [
       "False"
      ]
     },
     "execution_count": 7,
     "metadata": {},
     "output_type": "execute_result"
    }
   ],
   "source": [
    "du.truncate_table(db_sys, db_user, db_pass, db_host, db_port, db_db, 'whl_stats_team_stats_list')"
   ]
  },
  {
   "cell_type": "code",
   "execution_count": 8,
   "metadata": {},
   "outputs": [],
   "source": [
    "url = \"http://lscluster.hockeytech.com/feed/?feed=modulekit&view=standingstypes&key={0}&fmt=json&client_code=whl&lang=en&fmt=json\".format(key)\n",
    "json_data = wu.return_json(url)"
   ]
  },
  {
   "cell_type": "code",
   "execution_count": 17,
   "metadata": {},
   "outputs": [],
   "source": [
    "df = pd.DataFrame(json_data['SiteKit']['Standingstypes'], index=[0])"
   ]
  },
  {
   "cell_type": "code",
   "execution_count": 18,
   "metadata": {},
   "outputs": [
    {
     "data": {
      "text/html": [
       "<div>\n",
       "<style scoped>\n",
       "    .dataframe tbody tr th:only-of-type {\n",
       "        vertical-align: middle;\n",
       "    }\n",
       "\n",
       "    .dataframe tbody tr th {\n",
       "        vertical-align: top;\n",
       "    }\n",
       "\n",
       "    .dataframe thead th {\n",
       "        text-align: right;\n",
       "    }\n",
       "</style>\n",
       "<table border=\"1\" class=\"dataframe\">\n",
       "  <thead>\n",
       "    <tr style=\"text-align: right;\">\n",
       "      <th></th>\n",
       "      <th>overall</th>\n",
       "      <th>conference</th>\n",
       "      <th>division</th>\n",
       "      <th>d_1</th>\n",
       "      <th>d_2</th>\n",
       "      <th>d_3</th>\n",
       "      <th>d_6</th>\n",
       "      <th>homeaway</th>\n",
       "      <th>otoverall</th>\n",
       "      <th>othome</th>\n",
       "      <th>otaway</th>\n",
       "      <th>last10</th>\n",
       "      <th>ppoverall</th>\n",
       "      <th>pphome</th>\n",
       "      <th>ppaway</th>\n",
       "      <th>pkoverall</th>\n",
       "      <th>pkhome</th>\n",
       "      <th>pkaway</th>\n",
       "      <th>pimdiv</th>\n",
       "      <th>pimoverall</th>\n",
       "      <th>stkhome</th>\n",
       "      <th>stkaway</th>\n",
       "      <th>stkoverall</th>\n",
       "      <th>sohome</th>\n",
       "      <th>soaway</th>\n",
       "      <th>sooverall</th>\n",
       "      <th>wildcard</th>\n",
       "    </tr>\n",
       "  </thead>\n",
       "  <tbody>\n",
       "    <tr>\n",
       "      <th>0</th>\n",
       "      <td>Overall</td>\n",
       "      <td>Conference</td>\n",
       "      <td>Division</td>\n",
       "      <td>East Division</td>\n",
       "      <td>B.C. Division</td>\n",
       "      <td>Central Division</td>\n",
       "      <td>U.S. Division</td>\n",
       "      <td>Home &amp; Away</td>\n",
       "      <td>Overtime Games: Overall</td>\n",
       "      <td>Overtime Games: Home</td>\n",
       "      <td>Overtime Games: Away</td>\n",
       "      <td>Last 10 Games</td>\n",
       "      <td>Power Play (Overall)</td>\n",
       "      <td>Power Play (Home)</td>\n",
       "      <td>Power Play (Away)</td>\n",
       "      <td>Penalty Killing (Overall)</td>\n",
       "      <td>Penalty Killing (Home)</td>\n",
       "      <td>Penalty Killing (Away)</td>\n",
       "      <td>Penalty Minutes (By Division)</td>\n",
       "      <td>Penalty Minutes (Overall)</td>\n",
       "      <td>Longest Streaks (Home)</td>\n",
       "      <td>Longest Streaks (Away)</td>\n",
       "      <td>Longest Streaks (Overall)</td>\n",
       "      <td>Shootouts (Home)</td>\n",
       "      <td>Shootouts (Away)</td>\n",
       "      <td>Shootouts (Overall)</td>\n",
       "      <td>Wild Card</td>\n",
       "    </tr>\n",
       "  </tbody>\n",
       "</table>\n",
       "</div>"
      ],
      "text/plain": [
       "   overall  conference  division            d_1            d_2               d_3            d_6     homeaway                otoverall                othome                otaway         last10             ppoverall             pphome             ppaway                  pkoverall                  pkhome                  pkaway                         pimdiv                 pimoverall                 stkhome                 stkaway                 stkoverall            sohome            soaway            sooverall   wildcard\n",
       "0  Overall  Conference  Division  East Division  B.C. Division  Central Division  U.S. Division  Home & Away  Overtime Games: Overall  Overtime Games: Home  Overtime Games: Away  Last 10 Games  Power Play (Overall)  Power Play (Home)  Power Play (Away)  Penalty Killing (Overall)  Penalty Killing (Home)  Penalty Killing (Away)  Penalty Minutes (By Division)  Penalty Minutes (Overall)  Longest Streaks (Home)  Longest Streaks (Away)  Longest Streaks (Overall)  Shootouts (Home)  Shootouts (Away)  Shootouts (Overall)  Wild Card"
      ]
     },
     "execution_count": 18,
     "metadata": {},
     "output_type": "execute_result"
    }
   ],
   "source": [
    "df"
   ]
  },
  {
   "cell_type": "code",
   "execution_count": null,
   "metadata": {},
   "outputs": [],
   "source": []
  }
 ],
 "metadata": {
  "kernelspec": {
   "display_name": "Python 3",
   "language": "python",
   "name": "python3"
  },
  "language_info": {
   "codemirror_mode": {
    "name": "ipython",
    "version": 3
   },
   "file_extension": ".py",
   "mimetype": "text/x-python",
   "name": "python",
   "nbconvert_exporter": "python",
   "pygments_lexer": "ipython3",
   "version": "3.7.1"
  }
 },
 "nbformat": 4,
 "nbformat_minor": 2
}
