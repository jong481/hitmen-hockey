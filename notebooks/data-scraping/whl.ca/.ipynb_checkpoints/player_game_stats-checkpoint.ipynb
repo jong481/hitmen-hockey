{
 "cells": [
  {
   "cell_type": "code",
   "execution_count": 1,
   "metadata": {},
   "outputs": [],
   "source": [
    "%run ../utilities/web_utilities.ipynb\n",
    "%run ../utilities/database_utilities.ipynb\n",
    "%run ../utilities/encoder_utilities.ipynb\n",
    "%run ../utilities/pd_utilities.ipynb"
   ]
  },
  {
   "cell_type": "code",
   "execution_count": 2,
   "metadata": {},
   "outputs": [],
   "source": [
    "write_mode = 'replace'\n",
    "target_table = 'whl_player_game_stats'"
   ]
  },
  {
   "cell_type": "code",
   "execution_count": 3,
   "metadata": {},
   "outputs": [],
   "source": [
    "import pandas as pd\n",
    "import numpy as np\n",
    "import sys\n",
    "sys.path.append('../../../')\n",
    "\n",
    "import settings as st"
   ]
  },
  {
   "cell_type": "code",
   "execution_count": 4,
   "metadata": {},
   "outputs": [],
   "source": [
    "import pandas as pd\n",
    "pd.set_option('display.max_rows', 500)\n",
    "pd.set_option('display.max_columns', 500)\n",
    "pd.set_option('display.width', 1000)"
   ]
  },
  {
   "cell_type": "code",
   "execution_count": 5,
   "metadata": {},
   "outputs": [],
   "source": [
    "db_host = st.database['local']['host']\n",
    "db_port = st.database['local']['port']\n",
    "db_user = st.database['local']['user']\n",
    "db_pass = st.database['local']['pass']\n",
    "db_sys = st.database['local']['system']\n",
    "db_db = st.database['local']['db']"
   ]
  },
  {
   "cell_type": "code",
   "execution_count": 6,
   "metadata": {},
   "outputs": [],
   "source": [
    "key = \"41b145a848f4bd67\""
   ]
  },
  {
   "cell_type": "code",
   "execution_count": 7,
   "metadata": {},
   "outputs": [],
   "source": [
    "sql = \"SELECT DISTINCT player_id FROM whl_team_roster_by_season WHERE player_id IS NOT NULL ORDER BY player_id ASC\"\n",
    "res = query_database_to_list(db_sys, db_user, db_pass, db_host, db_port, db_db, sql)"
   ]
  },
  {
   "cell_type": "code",
   "execution_count": 8,
   "metadata": {},
   "outputs": [],
   "source": [
    "master_df = pd.DataFrame()"
   ]
  },
  {
   "cell_type": "code",
   "execution_count": 9,
   "metadata": {},
   "outputs": [
    {
     "name": "stdout",
     "output_type": "stream",
     "text": [
      "1 21812\n",
      "267\n",
      "266\n",
      "265\n",
      "264\n",
      "262\n",
      "261\n",
      "257\n",
      "256\n"
     ]
    }
   ],
   "source": [
    "i = 1\n",
    "for r in res:\n",
    "    player_id = str(r['player_id']).replace(\".0\", \"\")\n",
    "    \n",
    "    print(i, player_id)\n",
    "    \n",
    "    player_id = \"27537\"\n",
    "    \n",
    "    url = \"http://lscluster.hockeytech.com/feed/?feed=modulekit&view=player&key={0}&fmt=json&client_code=whl&lang=en&player_id={1}&category=gamebygame\".format(key, player_id)\n",
    "\n",
    "    json_data = return_json(url)\n",
    "    \n",
    "    for season in json_data['SiteKit']['Player']['seasons_played']:\n",
    "        season_id = season['season_id']\n",
    "        \n",
    "        print(season_id)\n",
    "        \n",
    "        season_url = 'http://lscluster.hockeytech.com/feed/?feed=modulekit&view=player&key={0}&fmt=json&client_code=whl&lang=en&player_id={1}&category=gamebygame&season_id={2}'.format(key, player_id, season_id)\n",
    "    \n",
    "        season_data = return_json(season_url)\n",
    "\n",
    "        df = pd.DataFrame(season_data['SiteKit']['Player']['games'])\n",
    "        \n",
    "        df['player_id'] = player_id\n",
    "        df['season_id'] = season_id\n",
    "        \n",
    "        master_df = master_df.append(df)\n",
    "\n",
    "    break"
   ]
  },
  {
   "cell_type": "code",
   "execution_count": 10,
   "metadata": {},
   "outputs": [],
   "source": [
    "\"\"\"\n",
    "Clean up Data\n",
    "\"\"\"\n",
    "master_df['date_played'] = master_df.date_played.apply(lambda x: clearDate(x))\n",
    "\n",
    "\"\"\"\n",
    "Fix Data Types\n",
    "\"\"\"\n",
    "master_df[\"assists\"] = pd.to_numeric(master_df[\"assists\"])\n",
    "master_df[\"empty_net_goals\"] = pd.to_numeric(master_df[\"empty_net_goals\"])\n",
    "master_df[\"faceoffs_taken\"] = pd.to_numeric(master_df[\"faceoffs_taken\"])\n",
    "master_df[\"faceoffs_won\"] = pd.to_numeric(master_df[\"faceoffs_won\"])\n",
    "master_df[\"first_goals_scored\"] = pd.to_numeric(master_df[\"first_goals_scored\"])\n",
    "master_df[\"game_tieing_goals\"] = pd.to_numeric(master_df[\"game_tieing_goals\"])\n",
    "master_df[\"game_winning_goals\"] = pd.to_numeric(master_df[\"game_winning_goals\"])\n",
    "master_df[\"goalie\"] = pd.to_numeric(master_df[\"goalie\"])\n",
    "master_df[\"goals\"] = pd.to_numeric(master_df[\"goals\"])\n",
    "master_df[\"home\"] = pd.to_numeric(master_df[\"home\"])\n",
    "master_df[\"home_team\"] = pd.to_numeric(master_df[\"home_team\"])\n",
    "master_df[\"id\"] = pd.to_numeric(master_df[\"id\"])\n",
    "master_df[\"insurange_goals\"] = pd.to_numeric(master_df[\"insurange_goals\"])\n",
    "master_df[\"penalty_minutes\"] = pd.to_numeric(master_df[\"penalty_minutes\"])\n",
    "master_df[\"player_id\"] = pd.to_numeric(master_df[\"player_id\"])\n",
    "master_df[\"player_team\"] = pd.to_numeric(master_df[\"player_team\"])\n",
    "master_df[\"plus_minus\"] = pd.to_numeric(master_df[\"plus_minus\"])\n",
    "master_df[\"plusminus\"] = pd.to_numeric(master_df[\"plusminus\"])\n",
    "master_df[\"points\"] = pd.to_numeric(master_df[\"points\"])\n",
    "master_df[\"power_play_goals\"] = pd.to_numeric(master_df[\"power_play_goals\"])\n",
    "master_df[\"season_id\"] = pd.to_numeric(master_df[\"season_id\"])\n",
    "master_df[\"shooting_percentage\"] = pd.to_numeric(master_df[\"shooting_percentage\"])\n",
    "master_df[\"shootout_attempts\"] = pd.to_numeric(master_df[\"shootout_attempts\"])\n",
    "master_df[\"shootout_goals\"] = pd.to_numeric(master_df[\"shootout_goals\"])\n",
    "master_df[\"shootout_goals_win\"] = pd.to_numeric(master_df[\"shootout_goals_win\"])\n",
    "master_df[\"shootout_shots\"] = pd.to_numeric(master_df[\"shootout_shots\"])\n",
    "master_df[\"shootout_shots_percentage\"] = pd.to_numeric(master_df[\"shootout_shots_percentage\"])\n",
    "master_df[\"short_handed_goals\"] = pd.to_numeric(master_df[\"short_handed_goals\"])\n",
    "master_df[\"shots\"] = pd.to_numeric(master_df[\"shots\"])\n",
    "master_df[\"visiting_team\"] = pd.to_numeric(master_df[\"visiting_team\"])\n",
    "\n",
    "master_df[\"date_played\"] = pd.to_datetime(master_df[\"date_played\"])"
   ]
  },
  {
   "cell_type": "code",
   "execution_count": 11,
   "metadata": {},
   "outputs": [],
   "source": [
    "master_df = master_df.reset_index(drop=True)"
   ]
  },
  {
   "cell_type": "code",
   "execution_count": 12,
   "metadata": {},
   "outputs": [],
   "source": [
    "if write_mode == 'append':\n",
    "    index = get_table_new_id(db_sys, db_user, db_pass, db_host, db_port, db_db, target_table, 'index')\n",
    "    master_df.insert(0, 'index', master_df.index + index)\n",
    "else:\n",
    "    master_df.insert(0, 'index', master_df.index)"
   ]
  },
  {
   "cell_type": "code",
   "execution_count": 13,
   "metadata": {},
   "outputs": [],
   "source": [
    "write_df_to_database(master_df, target_table, db_sys, db_user, db_pass, db_host, db_port, db_db, write_mode, False)"
   ]
  }
 ],
 "metadata": {
  "kernelspec": {
   "display_name": "Python 3",
   "language": "python",
   "name": "python3"
  },
  "language_info": {
   "codemirror_mode": {
    "name": "ipython",
    "version": 3
   },
   "file_extension": ".py",
   "mimetype": "text/x-python",
   "name": "python",
   "nbconvert_exporter": "python",
   "pygments_lexer": "ipython3",
   "version": "3.7.1"
  }
 },
 "nbformat": 4,
 "nbformat_minor": 2
}
