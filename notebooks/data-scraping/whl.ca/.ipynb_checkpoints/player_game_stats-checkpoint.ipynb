{
 "cells": [
  {
   "cell_type": "code",
   "execution_count": null,
   "metadata": {},
   "outputs": [],
   "source": [
    "import pandas as pd\n",
    "import numpy as np\n",
    "import sys\n",
    "sys.path.append('../../../')\n",
    "\n",
    "import settings as st\n",
    "import datetime"
   ]
  },
  {
   "cell_type": "code",
   "execution_count": null,
   "metadata": {},
   "outputs": [],
   "source": [
    "sys.path.append('../../../production/data-scraping/utilities')\n",
    "\n",
    "import web_utilities as wu\n",
    "import database_utilities as du\n",
    "import encoder_utilities as eu\n",
    "import pd_utilities as pu"
   ]
  },
  {
   "cell_type": "code",
   "execution_count": null,
   "metadata": {},
   "outputs": [],
   "source": [
    "import pandas as pd\n",
    "pd.set_option('display.max_rows', 500)\n",
    "pd.set_option('display.max_columns', 500)\n",
    "pd.set_option('display.width', 1000)"
   ]
  },
  {
   "cell_type": "code",
   "execution_count": null,
   "metadata": {},
   "outputs": [],
   "source": [
    "db_host = st.database['local']['host']\n",
    "db_port = st.database['local']['port']\n",
    "db_user = st.database['local']['user']\n",
    "db_pass = st.database['local']['pass']\n",
    "db_sys = st.database['local']['system']\n",
    "db_db = st.database['local']['db']"
   ]
  },
  {
   "cell_type": "code",
   "execution_count": null,
   "metadata": {},
   "outputs": [],
   "source": [
    "stg_table = 'stg_whl_player_game_stats'\n",
    "target_table = 'whl_player_game_stats'"
   ]
  },
  {
   "cell_type": "code",
   "execution_count": null,
   "metadata": {},
   "outputs": [],
   "source": [
    "du.truncate_table(db_sys, db_user, db_pass, db_host, db_port, db_db, stg_table)"
   ]
  },
  {
   "cell_type": "code",
   "execution_count": null,
   "metadata": {},
   "outputs": [],
   "source": [
    "key = \"41b145a848f4bd67\""
   ]
  },
  {
   "cell_type": "code",
   "execution_count": null,
   "metadata": {},
   "outputs": [],
   "source": [
    "print(\"START PROCESS: \" + str(datetime.datetime.now()))"
   ]
  },
  {
   "cell_type": "code",
   "execution_count": null,
   "metadata": {},
   "outputs": [],
   "source": [
    "sql = \"SELECT DISTINCT player_id FROM whl_player_profile WHERE player_id IS NOT NULL and cast(player_id as int) > 27884 ORDER BY player_id ASC\"\n",
    "res = du.query_database_to_list(db_sys, db_user, db_pass, db_host, db_port, db_db, sql)"
   ]
  },
  {
   "cell_type": "code",
   "execution_count": null,
   "metadata": {},
   "outputs": [],
   "source": [
    "master_df = pu.empty_df()"
   ]
  },
  {
   "cell_type": "code",
   "execution_count": null,
   "metadata": {
    "scrolled": true
   },
   "outputs": [],
   "source": [
    "i = 1\n",
    "for r in res:\n",
    "    player_id = str(r['player_id']).replace(\".0\", \"\")\n",
    "    \n",
    "    print(i, player_id)\n",
    "        \n",
    "    url = \"http://lscluster.hockeytech.com/feed/?feed=modulekit&view=player&key={0}&fmt=json&client_code=whl&lang=en&player_id={1}&category=gamebygame\".format(key, player_id)\n",
    "\n",
    "    json_data = wu.return_json(url)\n",
    "    \n",
    "    for season in json_data['SiteKit']['Player']['seasons_played']:\n",
    "        season_id = season['season_id']\n",
    "        \n",
    "        print(season_id)\n",
    "        \n",
    "        season_url = 'http://lscluster.hockeytech.com/feed/?feed=modulekit&view=player&key={0}&fmt=json&client_code=whl&lang=en&player_id={1}&category=gamebygame&season_id={2}'.format(key, player_id, season_id)\n",
    "    \n",
    "        season_data = wu.return_json(season_url)\n",
    "\n",
    "        df = pd.DataFrame(season_data['SiteKit']['Player']['games'])\n",
    "        \n",
    "        df['player_id'] = player_id\n",
    "        df['season_id'] = season_id\n",
    "        \n",
    "        master_df = master_df.append(df)\n",
    "        \n",
    "    if (i%10)==0:\n",
    "        du.write_df_to_database(master_df, stg_table, db_sys, db_user, db_pass, db_host, db_port, db_db, 'append', False)\n",
    "        master_df = pu.empty_df()\n",
    "        \n",
    "    i += 1"
   ]
  },
  {
   "cell_type": "code",
   "execution_count": null,
   "metadata": {},
   "outputs": [],
   "source": [
    "du.write_df_to_database(master_df, stg_table, db_sys, db_user, db_pass, db_host, db_port, db_db, 'append', False)"
   ]
  },
  {
   "cell_type": "code",
   "execution_count": null,
   "metadata": {},
   "outputs": [],
   "source": [
    "\"\"\"\n",
    "Fix Data Types From Staging Table\n",
    "\"\"\"\n",
    "\n",
    "sql = \"SELECT * FROM {0}\".format(stg_table)\n",
    "df = du.query_database_to_df(db_sys, db_user, db_pass, db_host, db_port, db_db, sql)\n",
    "\n",
    "\"\"\"\n",
    "Clean up Data\n",
    "\"\"\"\n",
    "df['date_played'] = df.date_played.apply(lambda x: pu.clearDate(x))\n",
    "df['points'] = df.points.apply(lambda x: pu.clearNA(x))\n",
    "\n",
    "\"\"\"\n",
    "Fix Data Types\n",
    "\"\"\"\n",
    "df[\"assists\"] = pd.to_numeric(df[\"assists\"])\n",
    "df[\"empty_net_goals\"] = pd.to_numeric(df[\"empty_net_goals\"])\n",
    "df[\"faceoffs_taken\"] = pd.to_numeric(df[\"faceoffs_taken\"])\n",
    "df[\"faceoffs_won\"] = pd.to_numeric(df[\"faceoffs_won\"])\n",
    "df[\"first_goals_scored\"] = pd.to_numeric(df[\"first_goals_scored\"])\n",
    "df[\"game_tieing_goals\"] = pd.to_numeric(df[\"game_tieing_goals\"])\n",
    "df[\"game_winning_goals\"] = pd.to_numeric(df[\"game_winning_goals\"])\n",
    "df[\"goalie\"] = pd.to_numeric(df[\"goalie\"])\n",
    "df[\"goals\"] = pd.to_numeric(df[\"goals\"])\n",
    "df[\"home\"] = pd.to_numeric(df[\"home\"])\n",
    "df[\"home_team\"] = pd.to_numeric(df[\"home_team\"])\n",
    "df[\"id\"] = pd.to_numeric(df[\"id\"])\n",
    "df[\"insurange_goals\"] = pd.to_numeric(df[\"insurange_goals\"])\n",
    "df[\"penalty_minutes\"] = pd.to_numeric(df[\"penalty_minutes\"])\n",
    "df[\"player_id\"] = pd.to_numeric(df[\"player_id\"])\n",
    "df[\"player_team\"] = pd.to_numeric(df[\"player_team\"])\n",
    "df[\"plus_minus\"] = pd.to_numeric(df[\"plus_minus\"])\n",
    "df[\"plusminus\"] = pd.to_numeric(df[\"plusminus\"])\n",
    "df[\"points\"] = pd.to_numeric(df[\"points\"])\n",
    "df[\"power_play_goals\"] = pd.to_numeric(df[\"power_play_goals\"])\n",
    "df[\"season_id\"] = pd.to_numeric(df[\"season_id\"])\n",
    "df[\"shooting_percentage\"] = pd.to_numeric(df[\"shooting_percentage\"])\n",
    "df[\"shootout_attempts\"] = pd.to_numeric(df[\"shootout_attempts\"])\n",
    "df[\"shootout_goals\"] = pd.to_numeric(df[\"shootout_goals\"])\n",
    "df[\"shootout_goals_win\"] = pd.to_numeric(df[\"shootout_goals_win\"])\n",
    "df[\"shootout_shots\"] = pd.to_numeric(df[\"shootout_shots\"])\n",
    "df[\"shootout_shots_percentage\"] = pd.to_numeric(df[\"shootout_shots_percentage\"])\n",
    "df[\"short_handed_goals\"] = pd.to_numeric(df[\"short_handed_goals\"])\n",
    "df[\"shots\"] = pd.to_numeric(df[\"shots\"])\n",
    "df[\"visiting_team\"] = pd.to_numeric(df[\"visiting_team\"])\n",
    "\n",
    "df[\"date_played\"] = pd.to_datetime(df[\"date_played\"])"
   ]
  },
  {
   "cell_type": "code",
   "execution_count": null,
   "metadata": {},
   "outputs": [],
   "source": [
    "du.write_df_to_database(df, target_table, db_sys, db_user, db_pass, db_host, db_port, db_db, 'append', False)"
   ]
  },
  {
   "cell_type": "code",
   "execution_count": null,
   "metadata": {},
   "outputs": [],
   "source": [
    "print(\"END PROCESS: \" + str(datetime.datetime.now()))"
   ]
  }
 ],
 "metadata": {
  "kernelspec": {
   "display_name": "Python 3",
   "language": "python",
   "name": "python3"
  },
  "language_info": {
   "codemirror_mode": {
    "name": "ipython",
    "version": 3
   },
   "file_extension": ".py",
   "mimetype": "text/x-python",
   "name": "python",
   "nbconvert_exporter": "python",
   "pygments_lexer": "ipython3",
   "version": "3.7.1"
  }
 },
 "nbformat": 4,
 "nbformat_minor": 2
}
