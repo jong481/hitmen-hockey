{
 "cells": [
  {
   "cell_type": "code",
   "execution_count": 1,
   "metadata": {},
   "outputs": [],
   "source": [
    "%run ../utilities/web_utilities.ipynb\n",
    "%run ../utilities/database_utilities.ipynb\n",
    "%run ../utilities/encoder_utilities.ipynb\n",
    "%run ../utilities/pd_utilities.ipynb"
   ]
  },
  {
   "cell_type": "code",
   "execution_count": 2,
   "metadata": {},
   "outputs": [],
   "source": [
    "write_mode = 'replace'\n",
    "target_table = 'whl_game_summary'"
   ]
  },
  {
   "cell_type": "code",
   "execution_count": 3,
   "metadata": {},
   "outputs": [],
   "source": [
    "import pandas as pd\n",
    "import numpy as np\n",
    "import sys\n",
    "sys.path.append('../../../')\n",
    "\n",
    "import settings as st"
   ]
  },
  {
   "cell_type": "code",
   "execution_count": 4,
   "metadata": {},
   "outputs": [],
   "source": [
    "import pandas as pd\n",
    "pd.set_option('display.max_rows', 500)\n",
    "pd.set_option('display.max_columns', 500)\n",
    "pd.set_option('display.width', 1000)"
   ]
  },
  {
   "cell_type": "code",
   "execution_count": 5,
   "metadata": {},
   "outputs": [],
   "source": [
    "db_host = st.database['local']['host']\n",
    "db_port = st.database['local']['port']\n",
    "db_user = st.database['local']['user']\n",
    "db_pass = st.database['local']['pass']\n",
    "db_sys = st.database['local']['system']\n",
    "db_db = st.database['local']['db']"
   ]
  },
  {
   "cell_type": "code",
   "execution_count": 6,
   "metadata": {},
   "outputs": [],
   "source": [
    "key = \"41b145a848f4bd67\""
   ]
  },
  {
   "cell_type": "code",
   "execution_count": 7,
   "metadata": {},
   "outputs": [],
   "source": [
    "season_id = None\n",
    "season_id = 267"
   ]
  },
  {
   "cell_type": "code",
   "execution_count": 8,
   "metadata": {},
   "outputs": [],
   "source": [
    "if season_id == None:\n",
    "    sql = \"SELECT DISTINCT id FROM whl_schedule_by_season\"\n",
    "else:\n",
    "    sql = \"SELECT DISTINCT id FROM whl_schedule_by_season where season_id = {0}\".format(season_id)\n",
    "res = query_database_to_list(db_sys, db_user, db_pass, db_host, db_port, db_db, sql)"
   ]
  },
  {
   "cell_type": "code",
   "execution_count": 9,
   "metadata": {},
   "outputs": [],
   "source": [
    "for r in res:\n",
    "    game_id = r['id']\n",
    "    \n",
    "    url = \"http://cluster.leaguestat.com/feed/index.php?feed=gc&key={0}&client_code=whl&game_id={1}&lang_code=en&fmt=json&tab=gamesummary\".format(key, game_id)\n",
    "    \n",
    "    json_data = return_json(url)\n",
    "    \n",
    "    break"
   ]
  },
  {
   "cell_type": "code",
   "execution_count": 14,
   "metadata": {},
   "outputs": [
    {
     "data": {
      "text/plain": [
       "{'visitor': 0, 'home': 0}"
      ]
     },
     "execution_count": 14,
     "metadata": {},
     "output_type": "execute_result"
    }
   ],
   "source": [
    "pd.DataFrame(json_data['GC']['Gamesummary'])"
   ]
  },
  {
   "cell_type": "code",
   "execution_count": 19,
   "metadata": {},
   "outputs": [
    {
     "data": {
      "text/html": [
       "<div>\n",
       "<style scoped>\n",
       "    .dataframe tbody tr th:only-of-type {\n",
       "        vertical-align: middle;\n",
       "    }\n",
       "\n",
       "    .dataframe tbody tr th {\n",
       "        vertical-align: top;\n",
       "    }\n",
       "\n",
       "    .dataframe thead th {\n",
       "        text-align: right;\n",
       "    }\n",
       "</style>\n",
       "<table border=\"1\" class=\"dataframe\">\n",
       "  <thead>\n",
       "    <tr style=\"text-align: right;\">\n",
       "      <th></th>\n",
       "      <th>bench</th>\n",
       "      <th>event</th>\n",
       "      <th>home</th>\n",
       "      <th>lang_penalty_description</th>\n",
       "      <th>minutes</th>\n",
       "      <th>minutes_formatted</th>\n",
       "      <th>offence</th>\n",
       "      <th>penalty_class</th>\n",
       "      <th>penalty_class_id</th>\n",
       "      <th>penalty_shot</th>\n",
       "      <th>period</th>\n",
       "      <th>period_id</th>\n",
       "      <th>player_penalized_info</th>\n",
       "      <th>player_served_info</th>\n",
       "      <th>pp</th>\n",
       "      <th>s</th>\n",
       "      <th>team_id</th>\n",
       "      <th>time_off_formatted</th>\n",
       "    </tr>\n",
       "  </thead>\n",
       "  <tbody>\n",
       "    <tr>\n",
       "      <th>0</th>\n",
       "      <td>0</td>\n",
       "      <td>penalty</td>\n",
       "      <td>1</td>\n",
       "      <td>Tripping</td>\n",
       "      <td>2</td>\n",
       "      <td>2:00</td>\n",
       "      <td>35</td>\n",
       "      <td>Minor</td>\n",
       "      <td>1</td>\n",
       "      <td>0</td>\n",
       "      <td>1st</td>\n",
       "      <td>1</td>\n",
       "      <td>{'player_id': '27388', 'jersey_number': '2', '...</td>\n",
       "      <td>{'player_id': '27388', 'jersey_number': '2', '...</td>\n",
       "      <td>1</td>\n",
       "      <td>789</td>\n",
       "      <td>213</td>\n",
       "      <td>13:09</td>\n",
       "    </tr>\n",
       "    <tr>\n",
       "      <th>1</th>\n",
       "      <td>0</td>\n",
       "      <td>penalty</td>\n",
       "      <td>1</td>\n",
       "      <td>Cross Checking</td>\n",
       "      <td>2</td>\n",
       "      <td>2:00</td>\n",
       "      <td>8</td>\n",
       "      <td>Minor</td>\n",
       "      <td>1</td>\n",
       "      <td>0</td>\n",
       "      <td>1st</td>\n",
       "      <td>1</td>\n",
       "      <td>{'player_id': '26902', 'jersey_number': '27', ...</td>\n",
       "      <td>{'player_id': '26902', 'jersey_number': '27', ...</td>\n",
       "      <td>1</td>\n",
       "      <td>1122</td>\n",
       "      <td>213</td>\n",
       "      <td>18:42</td>\n",
       "    </tr>\n",
       "    <tr>\n",
       "      <th>2</th>\n",
       "      <td>0</td>\n",
       "      <td>penalty</td>\n",
       "      <td>0</td>\n",
       "      <td>Interference</td>\n",
       "      <td>2</td>\n",
       "      <td>2:00</td>\n",
       "      <td>22</td>\n",
       "      <td>Minor</td>\n",
       "      <td>1</td>\n",
       "      <td>0</td>\n",
       "      <td>2nd</td>\n",
       "      <td>2</td>\n",
       "      <td>{'player_id': '26869', 'jersey_number': '2', '...</td>\n",
       "      <td>{'player_id': '26869', 'jersey_number': '2', '...</td>\n",
       "      <td>1</td>\n",
       "      <td>375</td>\n",
       "      <td>207</td>\n",
       "      <td>6:15</td>\n",
       "    </tr>\n",
       "    <tr>\n",
       "      <th>3</th>\n",
       "      <td>0</td>\n",
       "      <td>penalty</td>\n",
       "      <td>0</td>\n",
       "      <td>Roughing</td>\n",
       "      <td>2</td>\n",
       "      <td>2:00</td>\n",
       "      <td>30</td>\n",
       "      <td>Minor</td>\n",
       "      <td>1</td>\n",
       "      <td>0</td>\n",
       "      <td>2nd</td>\n",
       "      <td>2</td>\n",
       "      <td>{'player_id': '26885', 'jersey_number': '6', '...</td>\n",
       "      <td>{'player_id': '26885', 'jersey_number': '6', '...</td>\n",
       "      <td>1</td>\n",
       "      <td>576</td>\n",
       "      <td>207</td>\n",
       "      <td>9:36</td>\n",
       "    </tr>\n",
       "    <tr>\n",
       "      <th>4</th>\n",
       "      <td>0</td>\n",
       "      <td>penalty</td>\n",
       "      <td>0</td>\n",
       "      <td>Tripping</td>\n",
       "      <td>2</td>\n",
       "      <td>2:00</td>\n",
       "      <td>35</td>\n",
       "      <td>Minor</td>\n",
       "      <td>1</td>\n",
       "      <td>0</td>\n",
       "      <td>2nd</td>\n",
       "      <td>2</td>\n",
       "      <td>{'player_id': '27389', 'jersey_number': '22', ...</td>\n",
       "      <td>{'player_id': '27389', 'jersey_number': '22', ...</td>\n",
       "      <td>1</td>\n",
       "      <td>946</td>\n",
       "      <td>207</td>\n",
       "      <td>15:46</td>\n",
       "    </tr>\n",
       "    <tr>\n",
       "      <th>5</th>\n",
       "      <td>0</td>\n",
       "      <td>penalty</td>\n",
       "      <td>0</td>\n",
       "      <td>Tripping</td>\n",
       "      <td>2</td>\n",
       "      <td>2:00</td>\n",
       "      <td>35</td>\n",
       "      <td>Minor</td>\n",
       "      <td>1</td>\n",
       "      <td>0</td>\n",
       "      <td>3rd</td>\n",
       "      <td>3</td>\n",
       "      <td>{'player_id': '27800', 'jersey_number': '12', ...</td>\n",
       "      <td>{'player_id': '27800', 'jersey_number': '12', ...</td>\n",
       "      <td>1</td>\n",
       "      <td>147</td>\n",
       "      <td>207</td>\n",
       "      <td>2:27</td>\n",
       "    </tr>\n",
       "  </tbody>\n",
       "</table>\n",
       "</div>"
      ],
      "text/plain": [
       "  bench    event home lang_penalty_description  minutes minutes_formatted offence penalty_class penalty_class_id penalty_shot period period_id                              player_penalized_info                                 player_served_info pp     s team_id time_off_formatted\n",
       "0     0  penalty    1                 Tripping        2              2:00      35         Minor                1            0    1st         1  {'player_id': '27388', 'jersey_number': '2', '...  {'player_id': '27388', 'jersey_number': '2', '...  1   789     213              13:09\n",
       "1     0  penalty    1           Cross Checking        2              2:00       8         Minor                1            0    1st         1  {'player_id': '26902', 'jersey_number': '27', ...  {'player_id': '26902', 'jersey_number': '27', ...  1  1122     213              18:42\n",
       "2     0  penalty    0             Interference        2              2:00      22         Minor                1            0    2nd         2  {'player_id': '26869', 'jersey_number': '2', '...  {'player_id': '26869', 'jersey_number': '2', '...  1   375     207               6:15\n",
       "3     0  penalty    0                 Roughing        2              2:00      30         Minor                1            0    2nd         2  {'player_id': '26885', 'jersey_number': '6', '...  {'player_id': '26885', 'jersey_number': '6', '...  1   576     207               9:36\n",
       "4     0  penalty    0                 Tripping        2              2:00      35         Minor                1            0    2nd         2  {'player_id': '27389', 'jersey_number': '22', ...  {'player_id': '27389', 'jersey_number': '22', ...  1   946     207              15:46\n",
       "5     0  penalty    0                 Tripping        2              2:00      35         Minor                1            0    3rd         3  {'player_id': '27800', 'jersey_number': '12', ...  {'player_id': '27800', 'jersey_number': '12', ...  1   147     207               2:27"
      ]
     },
     "execution_count": 19,
     "metadata": {},
     "output_type": "execute_result"
    }
   ],
   "source": [
    "pd.DataFrame(json_data['GC']['Gamesummary']['penalties'])"
   ]
  },
  {
   "cell_type": "code",
   "execution_count": null,
   "metadata": {},
   "outputs": [],
   "source": []
  }
 ],
 "metadata": {
  "kernelspec": {
   "display_name": "Python 3",
   "language": "python",
   "name": "python3"
  },
  "language_info": {
   "codemirror_mode": {
    "name": "ipython",
    "version": 3
   },
   "file_extension": ".py",
   "mimetype": "text/x-python",
   "name": "python",
   "nbconvert_exporter": "python",
   "pygments_lexer": "ipython3",
   "version": "3.7.1"
  }
 },
 "nbformat": 4,
 "nbformat_minor": 2
}
