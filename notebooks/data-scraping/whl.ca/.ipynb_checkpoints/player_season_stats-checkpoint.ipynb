{
 "cells": [
  {
   "cell_type": "code",
   "execution_count": 2,
   "metadata": {},
   "outputs": [],
   "source": [
    "import pandas as pd\n",
    "import numpy as np\n",
    "import sys\n",
    "sys.path.append('../../../')\n",
    "\n",
    "import settings as st"
   ]
  },
  {
   "cell_type": "code",
   "execution_count": 3,
   "metadata": {},
   "outputs": [],
   "source": [
    "sys.path.append('../../../production/data-scraping/utilities')\n",
    "\n",
    "import web_utilities as wu\n",
    "import database_utilities as du\n",
    "import encoder_utilities as eu\n",
    "import pd_utilities as pu"
   ]
  },
  {
   "cell_type": "code",
   "execution_count": 4,
   "metadata": {},
   "outputs": [],
   "source": [
    "import pandas as pd\n",
    "pd.set_option('display.max_rows', 500)\n",
    "pd.set_option('display.max_columns', 500)\n",
    "pd.set_option('display.width', 1000)"
   ]
  },
  {
   "cell_type": "code",
   "execution_count": 5,
   "metadata": {},
   "outputs": [],
   "source": [
    "db_host = st.database['local']['host']\n",
    "db_port = st.database['local']['port']\n",
    "db_user = st.database['local']['user']\n",
    "db_pass = st.database['local']['pass']\n",
    "db_sys = st.database['local']['system']\n",
    "db_db = st.database['local']['db']"
   ]
  },
  {
   "cell_type": "code",
   "execution_count": 6,
   "metadata": {},
   "outputs": [],
   "source": [
    "key = \"41b145a848f4bd67\""
   ]
  },
  {
   "cell_type": "code",
   "execution_count": 8,
   "metadata": {},
   "outputs": [],
   "source": [
    "sql = \"SELECT DISTINCT player_id FROM whl_player_profile WHERE player_id IS NOT NULL ORDER BY player_id ASC\"\n",
    "res = du.query_database_to_list(db_sys, db_user, db_pass, db_host, db_port, db_db, sql)"
   ]
  },
  {
   "cell_type": "code",
   "execution_count": 18,
   "metadata": {},
   "outputs": [],
   "source": [
    "master_df = pd.DataFrame()"
   ]
  },
  {
   "cell_type": "code",
   "execution_count": 19,
   "metadata": {
    "scrolled": true
   },
   "outputs": [
    {
     "name": "stdout",
     "output_type": "stream",
     "text": [
      "1 26612\n",
      "2 26627\n",
      "3 26646\n",
      "4 26653\n",
      "5 26661\n",
      "6 26669\n",
      "7 26673\n",
      "8 26681\n",
      "9 26701\n",
      "10 26718\n",
      "11 26726\n",
      "12 26727\n",
      "13 26729\n",
      "14 26746\n"
     ]
    }
   ],
   "source": [
    "i = 1\n",
    "for r in res:\n",
    "    player_id = str(r['player_id']).replace(\".0\", \"\")\n",
    "    \n",
    "    print(i, player_id)\n",
    "    \n",
    "    url = \"http://lscluster.hockeytech.com/feed/?feed=modulekit&view=player&key={0}&fmt=json&client_code=whl&lang=en&player_id={1}&category=seasonstats\".format(key, player_id)\n",
    "    \n",
    "    json_data = wu.return_json(url)\n",
    "    \n",
    "    player_df = pd.DataFrame()\n",
    "    \n",
    "    try:\n",
    "        playoff_df = pd.DataFrame(json_data['SiteKit']['Player']['playoff'])\n",
    "        playoff_df = playoff_df[playoff_df.shortname != \"total\"]\n",
    "        playoff_df['season_type'] = 'Playoff'\n",
    "        playoff_df['player_id'] = player_id\n",
    "        \n",
    "        player_df = player_df.append(playoff_df)\n",
    "    except:\n",
    "        pass\n",
    "    \n",
    "    try:\n",
    "        regular_df = pd.DataFrame(json_data['SiteKit']['Player']['regular'])\n",
    "        regular_df = regular_df[regular_df.shortname != \"total\"]\n",
    "        regular_df['season_type'] = 'Regular'\n",
    "        regular_df['player_id'] = player_id\n",
    "\n",
    "        player_df = player_df.append(regular_df)\n",
    "    except:\n",
    "        pass\n",
    "    \n",
    "    master_df = master_df.append(player_df)\n",
    "    \n",
    "    i+=1"
   ]
  },
  {
   "cell_type": "code",
   "execution_count": 20,
   "metadata": {},
   "outputs": [],
   "source": [
    "\"\"\"\n",
    "Clean up Data\n",
    "\"\"\"\n",
    "master_df['max_start_date'] = master_df.max_start_date.apply(lambda x: pu.clearDate(x))\n",
    "\n",
    "\"\"\"\n",
    "Fix Data Types\n",
    "\"\"\"\n",
    "master_df[\"active\"] = pd.to_numeric(master_df[\"active\"])\n",
    "master_df[\"assists\"] = pd.to_numeric(master_df[\"assists\"])\n",
    "master_df[\"career\"] = pd.to_numeric(master_df[\"career\"])\n",
    "master_df[\"empty_net_goals\"] = pd.to_numeric(master_df[\"empty_net_goals\"])\n",
    "master_df[\"faceoff_attempts\"] = pd.to_numeric(master_df[\"faceoff_attempts\"])\n",
    "master_df[\"faceoff_pct\"] = pd.to_numeric(master_df[\"faceoff_pct\"])\n",
    "master_df[\"faceoff_wins\"] = pd.to_numeric(master_df[\"faceoff_wins\"])\n",
    "master_df[\"first_goals\"] = pd.to_numeric(master_df[\"first_goals\"])\n",
    "master_df[\"game_tieing_goals\"] = pd.to_numeric(master_df[\"game_tieing_goals\"])\n",
    "master_df[\"game_winning_goals\"] = pd.to_numeric(master_df[\"game_winning_goals\"])\n",
    "master_df[\"games_played\"] = pd.to_numeric(master_df[\"games_played\"])\n",
    "master_df[\"goals\"] = pd.to_numeric(master_df[\"goals\"])\n",
    "master_df[\"hits\"] = pd.to_numeric(master_df[\"hits\"])\n",
    "master_df[\"insurance_goals\"] = pd.to_numeric(master_df[\"insurance_goals\"])\n",
    "master_df[\"jersey_number\"] = pd.to_numeric(master_df[\"jersey_number\"])\n",
    "master_df[\"overtime_goals\"] = pd.to_numeric(master_df[\"overtime_goals\"])\n",
    "master_df[\"penalty_minutes\"] = pd.to_numeric(master_df[\"penalty_minutes\"])\n",
    "master_df[\"penalty_minutes_per_game\"] = pd.to_numeric(master_df[\"penalty_minutes_per_game\"])\n",
    "master_df[\"playoff\"] = pd.to_numeric(master_df[\"playoff\"])\n",
    "master_df[\"plus_minus\"] = pd.to_numeric(master_df[\"plus_minus\"])\n",
    "master_df[\"points\"] = pd.to_numeric(master_df[\"points\"])\n",
    "master_df[\"points_per_game\"] = pd.to_numeric(master_df[\"points_per_game\"])\n",
    "master_df[\"power_play_assists\"] = pd.to_numeric(master_df[\"power_play_assists\"])\n",
    "master_df[\"power_play_goals\"] = pd.to_numeric(master_df[\"power_play_goals\"])\n",
    "master_df[\"season_id\"] = pd.to_numeric(master_df[\"season_id\"])\n",
    "master_df[\"shooting_percentage\"] = pd.to_numeric(master_df[\"shooting_percentage\"])\n",
    "master_df[\"shootout_attempts\"] = pd.to_numeric(master_df[\"shootout_attempts\"])\n",
    "master_df[\"shootout_goals\"] = pd.to_numeric(master_df[\"shootout_goals\"])\n",
    "master_df[\"shootout_percentage\"] = pd.to_numeric(master_df[\"shootout_percentage\"])\n",
    "master_df[\"shootout_winning_goals\"] = pd.to_numeric(master_df[\"shootout_winning_goals\"])\n",
    "master_df[\"short_handed_assists\"] = pd.to_numeric(master_df[\"short_handed_assists\"])\n",
    "master_df[\"short_handed_goals\"] = pd.to_numeric(master_df[\"short_handed_goals\"])\n",
    "master_df[\"shots\"] = pd.to_numeric(master_df[\"shots\"])\n",
    "master_df[\"team_id\"] = pd.to_numeric(master_df[\"team_id\"])\n",
    "master_df[\"unassisted_goals\"] = pd.to_numeric(master_df[\"unassisted_goals\"])\n",
    "\n",
    "master_df[\"max_start_date\"] = pd.to_datetime(master_df[\"max_start_date\"])"
   ]
  },
  {
   "cell_type": "code",
   "execution_count": 22,
   "metadata": {},
   "outputs": [],
   "source": [
    "du.write_df_to_database(master_df, 'whl_player_season_stats', db_sys, db_user, db_pass, db_host, db_port, db_db, 'replace', False)"
   ]
  }
 ],
 "metadata": {
  "kernelspec": {
   "display_name": "Python 3",
   "language": "python",
   "name": "python3"
  },
  "language_info": {
   "codemirror_mode": {
    "name": "ipython",
    "version": 3
   },
   "file_extension": ".py",
   "mimetype": "text/x-python",
   "name": "python",
   "nbconvert_exporter": "python",
   "pygments_lexer": "ipython3",
   "version": "3.7.1"
  }
 },
 "nbformat": 4,
 "nbformat_minor": 2
}
