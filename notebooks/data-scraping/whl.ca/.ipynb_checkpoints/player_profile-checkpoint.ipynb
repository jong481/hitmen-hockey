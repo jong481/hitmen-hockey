{
 "cells": [
  {
   "cell_type": "code",
   "execution_count": null,
   "metadata": {},
   "outputs": [],
   "source": [
    "import pandas as pd\n",
    "import numpy as np\n",
    "import sys\n",
    "sys.path.append('../../../')\n",
    "\n",
    "import settings as st\n",
    "import datetime"
   ]
  },
  {
   "cell_type": "code",
   "execution_count": null,
   "metadata": {},
   "outputs": [],
   "source": [
    "sys.path.append('../../../production/data-scraping/utilities')\n",
    "\n",
    "import web_utilities as wu\n",
    "import database_utilities as du\n",
    "import encoder_utilities as eu\n",
    "import pd_utilities as pu"
   ]
  },
  {
   "cell_type": "code",
   "execution_count": null,
   "metadata": {},
   "outputs": [],
   "source": [
    "import pandas as pd\n",
    "pd.set_option('display.max_rows', 500)\n",
    "pd.set_option('display.max_columns', 500)\n",
    "pd.set_option('display.width', 1000)"
   ]
  },
  {
   "cell_type": "code",
   "execution_count": null,
   "metadata": {},
   "outputs": [],
   "source": [
    "db_host = st.database['local']['host']\n",
    "db_port = st.database['local']['port']\n",
    "db_user = st.database['local']['user']\n",
    "db_pass = st.database['local']['pass']\n",
    "db_sys = st.database['local']['system']\n",
    "db_db = st.database['local']['db']"
   ]
  },
  {
   "cell_type": "code",
   "execution_count": null,
   "metadata": {},
   "outputs": [],
   "source": [
    "key = \"41b145a848f4bd67\""
   ]
  },
  {
   "cell_type": "code",
   "execution_count": null,
   "metadata": {},
   "outputs": [],
   "source": [
    "print(\"START PROCCESS {0}\".format(str(datetime.datetime.now())))"
   ]
  },
  {
   "cell_type": "code",
   "execution_count": null,
   "metadata": {},
   "outputs": [],
   "source": [
    "sql = \"SELECT DISTINCT player_id FROM whl_team_roster_by_season WHERE player_id IS NOT NULL ORDER BY player_id ASC\"\n",
    "res = du.query_database_to_list(db_sys, db_user, db_pass, db_host, db_port, db_db, sql)"
   ]
  },
  {
   "cell_type": "code",
   "execution_count": null,
   "metadata": {},
   "outputs": [],
   "source": [
    "def draft_df_cleanup(df):\n",
    "    df=df.rename(columns = {'id':'draft_id'})\n",
    "    df[\"draft_id\"] = pd.to_numeric(df[\"draft_id\"])\n",
    "    df['draft_date'] = df.draft_date.apply(lambda x: pu.clearDate(x))\n",
    "    df[\"draft_mode\"] = pd.to_numeric(df[\"draft_mode\"])\n",
    "    df[\"draft_rank\"] = pd.to_numeric(df[\"draft_rank\"])\n",
    "    df[\"draft_round\"] = pd.to_numeric(df[\"draft_round\"])\n",
    "    df[\"draft_type_id\"] = pd.to_numeric(df[\"draft_type_id\"])\n",
    "    \n",
    "    return df\n",
    "\n",
    "def master_df_cleanup(df):   \n",
    "    \"\"\"\n",
    "    Clean up Data\n",
    "    \"\"\"\n",
    "    df['birthdate'] = df.birthdate.apply(lambda x: pu.clearDate(x))\n",
    "    df['rookie'] = df.rookie.apply(lambda x: pu.clearNanToNone(x))\n",
    "    df['weight'] = df.weight.apply(lambda x: pu.ifNumeric(x))\n",
    "\n",
    "    \"\"\"\n",
    "    Fix Data Types\n",
    "    \"\"\"\n",
    "    df[\"active\"] = pd.to_numeric(df[\"active\"])\n",
    "    df[\"jersey_number\"] = pd.to_numeric(df[\"jersey_number\"])\n",
    "    df[\"most_recent_team_id\"] = pd.to_numeric(df[\"most_recent_team_id\"])\n",
    "    df[\"rookie\"] = pd.to_numeric(df[\"rookie\"])\n",
    "    df[\"weight\"] = pd.to_numeric(df[\"weight\"])\n",
    "    df[\"birthdate\"] = pd.to_datetime(df[\"birthdate\"])\n",
    "    \n",
    "    return df"
   ]
  },
  {
   "cell_type": "code",
   "execution_count": null,
   "metadata": {},
   "outputs": [],
   "source": [
    "master_df = pu.empty_df()\n",
    "master_draft_df = pu.empty_df()\n",
    "# master_bio_df = empty_df"
   ]
  },
  {
   "cell_type": "code",
   "execution_count": null,
   "metadata": {
    "scrolled": true
   },
   "outputs": [],
   "source": [
    "i = 1\n",
    "for r in res:\n",
    "    player_id = str(r['player_id']).replace(\".0\", \"\")\n",
    "        \n",
    "    print(i, player_id)\n",
    "        \n",
    "    url = \"http://lscluster.hockeytech.com/feed/?feed=modulekit&view=player&key={0}&fmt=json&client_code=whl&lang=en&player_id={1}&category=profile\".format(key, player_id)\n",
    "        \n",
    "    json_data = wu.return_json(url)\n",
    "    json_obj = json_data['SiteKit']['Player']\n",
    "    \n",
    "    \"\"\"\n",
    "    DRAFT DATA\n",
    "    \"\"\"\n",
    "    json_draft = json_obj['draft']\n",
    "    for x in range(0, len(json_draft)):\n",
    "        draft_df = pd.DataFrame(json_draft[x], index=[0])\n",
    "        draft_df['player_id'] = player_id\n",
    "    \n",
    "        master_draft_df = master_draft_df.append(draft_df)\n",
    "    \n",
    "    # BIO DATA - CURRENTLY DROPPING\n",
    "    # json_bio = json_obj['bio']\n",
    "    # print(len(json_bio))\n",
    "    # bio_df = pd.DataFrame(json_bio, index=[0])\n",
    "    # bio_df['player_id'] = player_id\n",
    "    \n",
    "    \"\"\"\n",
    "    MAIN DF\n",
    "    \"\"\"\n",
    "    json_obj.pop('bio')\n",
    "    json_obj.pop('draft')\n",
    "    try: json_obj.pop('show_on_roster')\n",
    "    except: pass\n",
    "    df = pd.DataFrame(json_obj, index=[0])\n",
    "    df['player_id'] = player_id\n",
    "    \n",
    "    master_df = master_df.append(df)\n",
    "    \n",
    "    i+=1"
   ]
  },
  {
   "cell_type": "code",
   "execution_count": null,
   "metadata": {},
   "outputs": [],
   "source": [
    "master_draft_df = draft_df_cleanup(master_draft_df)\n",
    "master_df = master_df_cleanup(master_df)"
   ]
  },
  {
   "cell_type": "code",
   "execution_count": null,
   "metadata": {},
   "outputs": [],
   "source": [
    "du.write_df_to_database(master_df, 'whl_player_profile', db_sys, db_user, db_pass, db_host, db_port, db_db, 'append', False)\n",
    "du.write_df_to_database(master_draft_df, 'whl_player_profile_draft', db_sys, db_user, db_pass, db_host, db_port, db_db, 'append', False)"
   ]
  },
  {
   "cell_type": "code",
   "execution_count": null,
   "metadata": {},
   "outputs": [],
   "source": [
    "print(\"END PROCCESS {0}\".format(str(datetime.datetime.now())))"
   ]
  },
  {
   "cell_type": "code",
   "execution_count": null,
   "metadata": {},
   "outputs": [],
   "source": []
  }
 ],
 "metadata": {
  "kernelspec": {
   "display_name": "Python 3",
   "language": "python",
   "name": "python3"
  },
  "language_info": {
   "codemirror_mode": {
    "name": "ipython",
    "version": 3
   },
   "file_extension": ".py",
   "mimetype": "text/x-python",
   "name": "python",
   "nbconvert_exporter": "python",
   "pygments_lexer": "ipython3",
   "version": "3.7.1"
  }
 },
 "nbformat": 4,
 "nbformat_minor": 2
}
