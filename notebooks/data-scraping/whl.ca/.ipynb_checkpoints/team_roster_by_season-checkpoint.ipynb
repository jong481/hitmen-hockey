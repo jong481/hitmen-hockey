{
 "cells": [
  {
   "cell_type": "code",
   "execution_count": null,
   "metadata": {},
   "outputs": [],
   "source": [
    "write_mode = 'replace'\n",
    "target_table = 'whl_team_roster_by_season'"
   ]
  },
  {
   "cell_type": "code",
   "execution_count": null,
   "metadata": {},
   "outputs": [],
   "source": [
    "import pandas as pd\n",
    "import numpy as np\n",
    "import sys\n",
    "sys.path.append('../../../')\n",
    "\n",
    "import settings as st"
   ]
  },
  {
   "cell_type": "code",
   "execution_count": null,
   "metadata": {},
   "outputs": [],
   "source": [
    "sys.path.append('../../../production/data-scraping/utilities')\n",
    "\n",
    "import web_utilities as wu\n",
    "import database_utilities as du\n",
    "import encoder_utilities as eu\n",
    "import pd_utilities as pu"
   ]
  },
  {
   "cell_type": "code",
   "execution_count": null,
   "metadata": {},
   "outputs": [],
   "source": [
    "db_host = st.database['local']['host']\n",
    "db_port = st.database['local']['port']\n",
    "db_user = st.database['local']['user']\n",
    "db_pass = st.database['local']['pass']\n",
    "db_sys = st.database['local']['system']\n",
    "db_db = st.database['local']['db']"
   ]
  },
  {
   "cell_type": "code",
   "execution_count": null,
   "metadata": {},
   "outputs": [],
   "source": [
    "key = \"41b145a848f4bd67\""
   ]
  },
  {
   "cell_type": "code",
   "execution_count": null,
   "metadata": {},
   "outputs": [],
   "source": [
    "sql = \"SELECT * FROM whl_season_list\"\n",
    "res = du.query_database_to_list(db_sys, db_user, db_pass, db_host, db_port, db_db, sql)"
   ]
  },
  {
   "cell_type": "code",
   "execution_count": null,
   "metadata": {},
   "outputs": [],
   "source": [
    "master_player_df = pd.DataFrame()"
   ]
  },
  {
   "cell_type": "code",
   "execution_count": null,
   "metadata": {
    "scrolled": true
   },
   "outputs": [],
   "source": [
    "\"\"\"\n",
    "Loop through each season\n",
    "\"\"\"\n",
    "for r in res:\n",
    "    season_id = r['season_id']\n",
    "    \n",
    "    sql = \"SELECT * FROM whl_team_list_by_season where season_id = {0}\".format(season_id)\n",
    "    team_list = du.query_database_to_list(db_sys, db_user, db_pass, db_host, db_port, db_db, sql)\n",
    "    \n",
    "    \"\"\"\n",
    "    Loop through each team\n",
    "    \"\"\"\n",
    "    for team in team_list:\n",
    "                                \n",
    "        team_id = team['id']\n",
    "        \n",
    "        print(\"SEASON: \" + str(season_id), \"TEAM: \" + str(team_id))\n",
    "    \n",
    "        url = 'http://lscluster.hockeytech.com/feed/?feed=modulekit&view=roster&key={0}&fmt=json&client_code=whl&lang=en&season_id={1}&team_id={2}&fmt=json'.format(key, season_id, team_id)\n",
    "        json_data = wu.return_json(url)\n",
    "    \n",
    "        \"\"\"\n",
    "        Split Player and Coach data\n",
    "        \"\"\"\n",
    "        player_data = []\n",
    "        coaches_data = []\n",
    "\n",
    "        data_len = len(json_data['SiteKit']['Roster'])\n",
    "\n",
    "        i = 1\n",
    "        for data in json_data['SiteKit']['Roster']:\n",
    "\n",
    "            if i < data_len:\n",
    "                player_data.append(data)\n",
    "            else:\n",
    "                coaches_data.append(data)\n",
    "\n",
    "            i+=1\n",
    "            \n",
    "        if len(player_data) > 0:\n",
    "            \n",
    "            player_df = pd.DataFrame(player_data)\n",
    "            coaches_df = pd.DataFrame(coaches_data)\n",
    "\n",
    "            \"\"\"\n",
    "            Append Team and Season ID\n",
    "            \"\"\"\n",
    "            player_df['team_id'] = team_id\n",
    "            player_df['season_id'] = season_id\n",
    "\n",
    "            \"\"\"\n",
    "            Extract Draft Info Data\n",
    "            \"\"\"\n",
    "            try:\n",
    "                player_df['temp'] = pd.DataFrame(player_df['draftinfo'].apply(pd.Series)[0])\n",
    "\n",
    "                col_list = []\n",
    "                for c in pd.DataFrame(player_df.temp.apply(lambda x: pu.clearNan(x)).values.tolist()).columns:\n",
    "                    col_list.append(c)\n",
    "\n",
    "                player_df[col_list] = pd.DataFrame(player_df.temp.apply(lambda x: pu.clearNan(x)).values.tolist())\n",
    "                player_df = player_df.drop(['temp'], axis=1)\n",
    "\n",
    "                player_df = player_df.drop(['draftinfo'], axis=1)\n",
    "\n",
    "                player_df['draft_date'] = player_df.draft_date.apply(lambda x: pu.clearDate(x))\n",
    "                player_df[\"draft_year\"] = pd.to_numeric(player_df[\"draft_year\"])\n",
    "                player_df[\"draft_date\"] = pd.to_datetime(player_df[\"draft_date\"])\n",
    "            \n",
    "            except Exception as e:\n",
    "                player_df = player_df.drop(['draftinfo'], axis=1)\n",
    "\n",
    "            \"\"\"\n",
    "            Clean up Data using Lambda Functions\n",
    "            \"\"\"\n",
    "            player_df['isRookie'] = player_df.isRookie.apply(lambda x: pu.clearDate(x))\n",
    "            player_df['isRookie'] = player_df.isRookie.apply(lambda x: pu.clearNbsp(x))\n",
    "            player_df['birthplace'] = player_df.birthplace.apply(lambda x: pu.clearDate(x))\n",
    "            player_df['birthplace'] = player_df.birthplace.apply(lambda x: pu.clearComma(x))\n",
    "            player_df['rawbirthdate'] = player_df.rawbirthdate.apply(lambda x: pu.clearDate(x))\n",
    "\n",
    "            \"\"\"\n",
    "            Fix Data Types\n",
    "            \"\"\"\n",
    "            player_df[\"active\"] = pd.to_numeric(player_df[\"active\"])\n",
    "            player_df[\"position_id\"] = pd.to_numeric(player_df[\"position_id\"])\n",
    "            player_df[\"rookie\"] = pd.to_numeric(player_df[\"rookie\"])\n",
    "            player_df[\"tp_jersey_number\"] = pd.to_numeric(player_df[\"tp_jersey_number\"])\n",
    "            try: player_df[\"weight\"] = pd.to_numeric(player_df[\"weight\"])\n",
    "            except Exception as e: print(e)\n",
    "            player_df[\"player_id\"] = pd.to_numeric(player_df[\"player_id\"])\n",
    "            player_df[\"person_id\"] = pd.to_numeric(player_df[\"person_id\"])\n",
    "            player_df[\"id\"] = pd.to_numeric(player_df[\"id\"])\n",
    "            player_df[\"hidden\"] = pd.to_numeric(player_df[\"hidden\"])\n",
    "            player_df[\"latest_team_id\"] = pd.to_numeric(player_df[\"latest_team_id\"])\n",
    "            player_df[\"playerId\"] = pd.to_numeric(player_df[\"playerId\"])\n",
    "            try: player_df[\"w\"] = pd.to_numeric(player_df[\"w\"])\n",
    "            except Exception as e: print(e)\n",
    "            player_df[\"birthdate\"] = pd.to_datetime(player_df[\"birthdate\"])\n",
    "            player_df[\"rawbirthdate\"] = pd.to_datetime(player_df[\"rawbirthdate\"])\n",
    "\n",
    "            master_player_df = master_player_df.append(player_df)"
   ]
  },
  {
   "cell_type": "code",
   "execution_count": null,
   "metadata": {},
   "outputs": [],
   "source": [
    "master_player_df = master_player_df.reset_index(drop=True)"
   ]
  },
  {
   "cell_type": "code",
   "execution_count": null,
   "metadata": {},
   "outputs": [],
   "source": [
    "if write_mode == 'append':\n",
    "    index = du.get_table_new_id(db_sys, db_user, db_pass, db_host, db_port, db_db, target_table, 'index')\n",
    "    master_player_df.insert(0, 'index', master_player_df.index + index)\n",
    "else:\n",
    "    master_player_df.insert(0, 'index', master_player_df.index)"
   ]
  },
  {
   "cell_type": "code",
   "execution_count": null,
   "metadata": {},
   "outputs": [],
   "source": [
    "du.write_df_to_database(master_player_df, target_table, db_sys, db_user, db_pass, db_host, db_port, db_db, write_mode, False)"
   ]
  }
 ],
 "metadata": {
  "kernelspec": {
   "display_name": "Python 3",
   "language": "python",
   "name": "python3"
  },
  "language_info": {
   "codemirror_mode": {
    "name": "ipython",
    "version": 3
   },
   "file_extension": ".py",
   "mimetype": "text/x-python",
   "name": "python",
   "nbconvert_exporter": "python",
   "pygments_lexer": "ipython3",
   "version": "3.7.1"
  }
 },
 "nbformat": 4,
 "nbformat_minor": 2
}
