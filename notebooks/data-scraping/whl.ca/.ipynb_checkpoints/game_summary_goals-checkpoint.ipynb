{
 "cells": [
  {
   "cell_type": "code",
   "execution_count": null,
   "metadata": {},
   "outputs": [],
   "source": [
    "import pandas as pd\n",
    "import numpy as np\n",
    "import sys\n",
    "sys.path.append('../../../')\n",
    "\n",
    "import settings as st\n",
    "import datetime"
   ]
  },
  {
   "cell_type": "code",
   "execution_count": null,
   "metadata": {},
   "outputs": [],
   "source": [
    "sys.path.append('../../../production/data-scraping/utilities')\n",
    "\n",
    "import web_utilities as wu\n",
    "import database_utilities as du\n",
    "import encoder_utilities as eu\n",
    "import pd_utilities as pu"
   ]
  },
  {
   "cell_type": "code",
   "execution_count": null,
   "metadata": {},
   "outputs": [],
   "source": [
    "import pandas as pd\n",
    "pd.set_option('display.max_rows', 500)\n",
    "pd.set_option('display.max_columns', 500)\n",
    "pd.set_option('display.width', 1000)"
   ]
  },
  {
   "cell_type": "code",
   "execution_count": null,
   "metadata": {},
   "outputs": [],
   "source": [
    "db_host = st.database['local']['host']\n",
    "db_port = st.database['local']['port']\n",
    "db_user = st.database['local']['user']\n",
    "db_pass = st.database['local']['pass']\n",
    "db_sys = st.database['local']['system']\n",
    "db_db = st.database['local']['db']"
   ]
  },
  {
   "cell_type": "code",
   "execution_count": null,
   "metadata": {},
   "outputs": [],
   "source": [
    "print(\"START PROCESS: \" + str(datetime.datetime.now()))"
   ]
  },
  {
   "cell_type": "code",
   "execution_count": null,
   "metadata": {},
   "outputs": [],
   "source": [
    "key = \"41b145a848f4bd67\""
   ]
  },
  {
   "cell_type": "code",
   "execution_count": null,
   "metadata": {},
   "outputs": [],
   "source": [
    "season_id = None"
   ]
  },
  {
   "cell_type": "code",
   "execution_count": null,
   "metadata": {},
   "outputs": [],
   "source": [
    "if season_id == None:\n",
    "    sql = \"SELECT DISTINCT id FROM whl_schedule_by_season order by id asc\"\n",
    "else:\n",
    "    sql = \"SELECT DISTINCT id FROM whl_schedule_by_season where season_id = {0} order by id asc\".format(season_id)\n",
    "res = du.query_database_to_list(db_sys, db_user, db_pass, db_host, db_port, db_db, sql)"
   ]
  },
  {
   "cell_type": "code",
   "execution_count": null,
   "metadata": {},
   "outputs": [],
   "source": [
    "du.truncate_table(db_sys, db_user, db_pass, db_host, db_port, db_db, 'stg_whl_game_summary_goals')\n",
    "du.truncate_table(db_sys, db_user, db_pass, db_host, db_port, db_db, 'stg_whl_game_summary_goals_plus')\n",
    "du.truncate_table(db_sys, db_user, db_pass, db_host, db_port, db_db, 'stg_whl_game_summary_goals_minus')"
   ]
  },
  {
   "cell_type": "code",
   "execution_count": null,
   "metadata": {},
   "outputs": [],
   "source": [
    "master_goals_df = pu.empty_df()\n",
    "master_goals_plus_df = pu.empty_df()\n",
    "master_goals_minus_df = pu.empty_df()"
   ]
  },
  {
   "cell_type": "code",
   "execution_count": null,
   "metadata": {},
   "outputs": [],
   "source": [
    "i = 0\n",
    "\n",
    "for r in res:\n",
    "    game_id = r['id']\n",
    "    \n",
    "    print(i, game_id)\n",
    "    \n",
    "    url = \"http://cluster.leaguestat.com/feed/index.php?feed=gc&key={0}&client_code=whl&game_id={1}&lang_code=en&fmt=json&tab=gamesummary\".format(key, game_id)\n",
    "    \n",
    "    json_data = wu.return_json(url)\n",
    "    \n",
    "    ### Goals\n",
    "    df_goals = pd.DataFrame(json_data['GC']['Gamesummary']['goals'])\n",
    "\n",
    "    try:\n",
    "        col_list = []\n",
    "        for c in pd.DataFrame(df_goals.assist1_player.values.tolist()).columns:\n",
    "            col_list.append('assist1_player_' + c)\n",
    "        df_goals[col_list] = pd.DataFrame(df_goals.assist1_player.values.tolist())\n",
    "        df_goals = df_goals.drop(['assist1_player'], axis=1)\n",
    "    except Exception as e: pass\n",
    "        \n",
    "    try:\n",
    "        col_list = []\n",
    "        for c in pd.DataFrame(df_goals.assist2_player.values.tolist()).columns:\n",
    "            col_list.append('assist2_player_' + c)\n",
    "        df_goals[col_list] = pd.DataFrame(df_goals.assist2_player.values.tolist())\n",
    "        df_goals = df_goals.drop(['assist2_player'], axis=1)\n",
    "    except Exception as e: pass\n",
    "        \n",
    "    try:\n",
    "        col_list = []\n",
    "        for c in pd.DataFrame(df_goals.goal_scorer.values.tolist()).columns:\n",
    "            col_list.append('goal_scorer_' + c)\n",
    "        df_goals[col_list] = pd.DataFrame(df_goals.goal_scorer.values.tolist())\n",
    "        df_goals = df_goals.drop(['goal_scorer'], axis=1)\n",
    "    except Exception as e: pass\n",
    "        \n",
    "    df_goals['game_id'] = game_id\n",
    "\n",
    "    df_goals = df_goals.reset_index()\n",
    "    df_goals.rename(columns={'index':'goal_id'}, inplace=True)\n",
    "    \n",
    "    ### Minus\n",
    "\n",
    "    try:\n",
    "        df_minus = df_goals[['minus', 'game_id', 'goal_id']].copy()\n",
    "        df_minus = df_minus.reset_index()\n",
    "\n",
    "        df_minus_x = df_minus['minus'].apply(pd.Series).reset_index().melt(id_vars='index').dropna()[['index', 'value']].set_index('index')\n",
    "        df_minus_a = pd.merge(pd.merge(df_minus_x, df_minus[['game_id']], left_index=True, right_index=True), df_minus[['goal_id']], left_index=True, right_index=True)\n",
    "        df_minus_a = df_minus_a.reset_index()\n",
    "\n",
    "        col_list = []\n",
    "        for c in pd.DataFrame(df_minus_a.value.values.tolist()).columns:\n",
    "            col_list.append(c)\n",
    "\n",
    "        df_minus_a[col_list] = pd.DataFrame(df_minus_a.value.values.tolist())\n",
    "        df_minus_a = df_minus_a.drop(['value'], axis=1)\n",
    "        df_minus_a = df_minus_a.drop(['index'], axis=1)\n",
    "        master_goals_minus_df = master_goals_minus_df.append(df_minus_a)\n",
    "    except Exception as e: pass\n",
    "    \n",
    "    ### Plus \n",
    "\n",
    "    try:\n",
    "        df_plus = df_goals[['plus', 'game_id', 'goal_id']].copy()\n",
    "        df_plus = df_plus.reset_index()\n",
    "\n",
    "        df_plus_x = df_plus['plus'].apply(pd.Series).reset_index().melt(id_vars='index').dropna()[['index', 'value']].set_index('index')\n",
    "        df_plus_a = pd.merge(pd.merge(df_plus_x, df_plus[['game_id']], left_index=True, right_index=True), df_plus[['goal_id']], left_index=True, right_index=True)\n",
    "        df_plus_a = df_plus_a.reset_index()\n",
    "\n",
    "        col_list = []\n",
    "        for c in pd.DataFrame(df_plus_a.value.values.tolist()).columns:\n",
    "            col_list.append(c)\n",
    "\n",
    "        df_plus_a[col_list] = pd.DataFrame(df_plus_a.value.values.tolist())\n",
    "        df_plus_a = df_plus_a.drop(['value'], axis=1)\n",
    "        df_plus_a = df_plus_a.drop(['index'], axis=1)\n",
    "        \n",
    "        master_goals_plus_df = master_goals_plus_df.append(df_plus_a)\n",
    "    except Exception as e: pass\n",
    "\n",
    "    try:\n",
    "        df_goals = df_goals.drop(['plus', 'minus'], axis=1)\n",
    "    except Exception as e: pass\n",
    "    \n",
    "    master_goals_df = master_goals_df.append(df_goals)\n",
    "    \n",
    "    i += 1\n",
    "    \n",
    "    if (i%5000)==0:\n",
    "        du.write_df_to_database(master_goals_df, 'stg_whl_game_summary_goals', db_sys, db_user, db_pass, db_host, db_port, db_db, 'append', False)\n",
    "        du.write_df_to_database(master_goals_plus_df, 'stg_whl_game_summary_goals_plus', db_sys, db_user, db_pass, db_host, db_port, db_db, 'append', False)\n",
    "        du.write_df_to_database(master_goals_minus_df, 'stg_whl_game_summary_goals_minus', db_sys, db_user, db_pass, db_host, db_port, db_db, 'append', False)\n",
    "        \n",
    "        master_goals_df = pu.empty_df()\n",
    "        master_goals_plus_df = pu.empty_df()\n",
    "        master_goals_minus_df = pu.empty_df()"
   ]
  },
  {
   "cell_type": "code",
   "execution_count": null,
   "metadata": {},
   "outputs": [],
   "source": [
    "du.write_df_to_database(master_goals_df, 'stg_whl_game_summary_goals', db_sys, db_user, db_pass, db_host, db_port, db_db, 'append', False)\n",
    "du.write_df_to_database(master_goals_plus_df, 'stg_whl_game_summary_goals_plus', db_sys, db_user, db_pass, db_host, db_port, db_db, 'append', False)\n",
    "du.write_df_to_database(master_goals_minus_df, 'stg_whl_game_summary_goals_minus', db_sys, db_user, db_pass, db_host, db_port, db_db, 'append', False)"
   ]
  },
  {
   "cell_type": "code",
   "execution_count": null,
   "metadata": {},
   "outputs": [],
   "source": [
    "print(\"END PROCESS: \" + str(datetime.datetime.now()))"
   ]
  }
 ],
 "metadata": {
  "kernelspec": {
   "display_name": "Python 3",
   "language": "python",
   "name": "python3"
  },
  "language_info": {
   "codemirror_mode": {
    "name": "ipython",
    "version": 3
   },
   "file_extension": ".py",
   "mimetype": "text/x-python",
   "name": "python",
   "nbconvert_exporter": "python",
   "pygments_lexer": "ipython3",
   "version": "3.7.1"
  }
 },
 "nbformat": 4,
 "nbformat_minor": 2
}
