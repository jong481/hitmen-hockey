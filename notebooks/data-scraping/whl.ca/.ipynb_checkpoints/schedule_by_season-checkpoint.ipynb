{
 "cells": [
  {
   "cell_type": "code",
   "execution_count": 1,
   "metadata": {},
   "outputs": [],
   "source": [
    "%run ../utilities/web_utilities.ipynb\n",
    "%run ../utilities/database_utilities.ipynb\n",
    "%run ../utilities/encoder_utilities.ipynb\n",
    "%run ../utilities/pd_utilities.ipynb"
   ]
  },
  {
   "cell_type": "code",
   "execution_count": 2,
   "metadata": {},
   "outputs": [],
   "source": [
    "write_mode = 'replace'\n",
    "target_table = 'whl_schedule_by_season'"
   ]
  },
  {
   "cell_type": "code",
   "execution_count": 3,
   "metadata": {},
   "outputs": [],
   "source": [
    "import pandas as pd\n",
    "import numpy as np\n",
    "import sys\n",
    "sys.path.append('../../../')\n",
    "\n",
    "import settings as st"
   ]
  },
  {
   "cell_type": "code",
   "execution_count": 25,
   "metadata": {},
   "outputs": [],
   "source": [
    "import pandas as pd\n",
    "pd.set_option('display.max_rows', 500)\n",
    "pd.set_option('display.max_columns', 500)\n",
    "pd.set_option('display.width', 1000)"
   ]
  },
  {
   "cell_type": "code",
   "execution_count": 4,
   "metadata": {},
   "outputs": [],
   "source": [
    "db_host = st.database['local']['host']\n",
    "db_port = st.database['local']['port']\n",
    "db_user = st.database['local']['user']\n",
    "db_pass = st.database['local']['pass']\n",
    "db_sys = st.database['local']['system']\n",
    "db_db = st.database['local']['db']"
   ]
  },
  {
   "cell_type": "code",
   "execution_count": 5,
   "metadata": {},
   "outputs": [],
   "source": [
    "key = \"41b145a848f4bd67\""
   ]
  },
  {
   "cell_type": "code",
   "execution_count": 6,
   "metadata": {},
   "outputs": [],
   "source": [
    "sql = \"SELECT * FROM whl_season_list\"\n",
    "res = query_database_to_list(db_sys, db_user, db_pass, db_host, db_port, db_db, sql)"
   ]
  },
  {
   "cell_type": "code",
   "execution_count": 7,
   "metadata": {},
   "outputs": [],
   "source": [
    "master_df = pd.DataFrame()"
   ]
  },
  {
   "cell_type": "code",
   "execution_count": 30,
   "metadata": {
    "scrolled": true
   },
   "outputs": [
    {
     "name": "stdout",
     "output_type": "stream",
     "text": [
      "267\n",
      "268\n",
      "266\n",
      "265\n",
      "264\n",
      "262\n",
      "261\n",
      "260\n",
      "257\n",
      "256\n",
      "255\n",
      "254\n",
      "251\n",
      "252\n",
      "250\n",
      "249\n",
      "248\n",
      "246\n",
      "247\n",
      "245\n",
      "244\n",
      "243\n",
      "242\n",
      "241\n",
      "240\n",
      "238\n",
      "239\n",
      "237\n",
      "236\n",
      "235\n",
      "234\n",
      "232\n",
      "233\n",
      "231\n",
      "230\n",
      "229\n",
      "228\n",
      "227\n",
      "226\n",
      "225\n",
      "224\n",
      "223\n",
      "222\n",
      "220\n",
      "219\n",
      "217\n",
      "216\n",
      "215\n",
      "214\n",
      "213\n",
      "212\n",
      "211\n",
      "210\n",
      "209\n",
      "207\n",
      "206\n",
      "205\n",
      "204\n",
      "202\n"
     ]
    }
   ],
   "source": [
    "for r in res:\n",
    "    season_id = r['season_id']\n",
    "    \n",
    "    print(season_id)\n",
    "    \n",
    "    url = \"http://lscluster.hockeytech.com/feed/?feed=modulekit&view=schedule&key={0}&fmt=json&client_code=whl&lang=en&season_id={1}&team_id=&league_code=&fmt=json\".format(key, season_id)\n",
    "    \n",
    "    json_data = return_json(url)\n",
    "    \n",
    "    df = pd.DataFrame(json_data['SiteKit']['Schedule'])\n",
    "    \n",
    "    df[\"date_time_played\"] = pd.to_datetime(df[\"date_time_played\"])\n",
    "    df[\"date_played\"] = pd.to_datetime(df[\"date_played\"])\n",
    "    df[\"last_modified\"] = pd.to_datetime(df[\"last_modified\"])\n",
    "\n",
    "    df[\"visiting_goal_count\"] = pd.to_numeric(df[\"visiting_goal_count\"])\n",
    "    df[\"visiting_team\"] = pd.to_numeric(df[\"visiting_team\"])\n",
    "\n",
    "    df[\"home_goal_count\"] = pd.to_numeric(df[\"home_goal_count\"])\n",
    "    df[\"home_team\"] = pd.to_numeric(df[\"home_team\"])\n",
    "\n",
    "    df[\"id\"] = pd.to_numeric(df[\"id\"])\n",
    "    df[\"game_number\"] = pd.to_numeric(df[\"game_number\"])\n",
    "    df[\"attendance\"] = pd.to_numeric(df[\"attendance\"])\n",
    "    df[\"final\"] = pd.to_numeric(df[\"final\"])\n",
    "    df[\"if_necessary\"] = pd.to_numeric(df[\"if_necessary\"])\n",
    "    df[\"intermission\"] = pd.to_numeric(df[\"intermission\"])\n",
    "\n",
    "    df[\"location\"] = pd.to_numeric(df[\"location\"])\n",
    "\n",
    "    df[\"overtime\"] = pd.to_numeric(df[\"overtime\"])\n",
    "    df[\"period\"] = pd.to_numeric(df[\"period\"])\n",
    "    df[\"quick_score\"] = pd.to_numeric(df[\"quick_score\"])\n",
    "    df[\"season_id\"] = pd.to_numeric(df[\"season_id\"])\n",
    "    df[\"shootout\"] = pd.to_numeric(df[\"shootout\"])\n",
    "    df[\"started\"] = pd.to_numeric(df[\"started\"])\n",
    "    df[\"status\"] = pd.to_numeric(df[\"status\"])\n",
    "    df[\"use_shootouts\"] = pd.to_numeric(df[\"use_shootouts\"])\n",
    "    \n",
    "    master_df = master_df.append(df)"
   ]
  },
  {
   "cell_type": "code",
   "execution_count": 33,
   "metadata": {},
   "outputs": [],
   "source": [
    "master_df = master_df.reset_index(drop=True)"
   ]
  },
  {
   "cell_type": "code",
   "execution_count": 34,
   "metadata": {},
   "outputs": [],
   "source": [
    "if write_mode == 'append':\n",
    "    index = get_table_new_id(db_sys, db_user, db_pass, db_host, db_port, db_db, target_table, 'index')\n",
    "    master_df.insert(0, 'index', master_df.index + index)\n",
    "else:\n",
    "    master_df.insert(0, 'index', master_df.index)"
   ]
  },
  {
   "cell_type": "code",
   "execution_count": 36,
   "metadata": {},
   "outputs": [],
   "source": [
    "write_df_to_database(master_df, target_table, db_sys, db_user, db_pass, db_host, db_port, db_db, write_mode, False)"
   ]
  }
 ],
 "metadata": {
  "kernelspec": {
   "display_name": "Python 3",
   "language": "python",
   "name": "python3"
  },
  "language_info": {
   "codemirror_mode": {
    "name": "ipython",
    "version": 3
   },
   "file_extension": ".py",
   "mimetype": "text/x-python",
   "name": "python",
   "nbconvert_exporter": "python",
   "pygments_lexer": "ipython3",
   "version": "3.7.1"
  }
 },
 "nbformat": 4,
 "nbformat_minor": 2
}
