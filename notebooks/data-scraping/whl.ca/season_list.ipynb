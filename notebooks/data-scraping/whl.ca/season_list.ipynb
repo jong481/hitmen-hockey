{
 "cells": [
  {
   "cell_type": "code",
   "execution_count": 1,
   "metadata": {},
   "outputs": [],
   "source": [
    "write_mode = 'append'\n",
    "target_table = 'whl_season_list'"
   ]
  },
  {
   "cell_type": "code",
   "execution_count": 2,
   "metadata": {},
   "outputs": [],
   "source": [
    "import pandas as pd\n",
    "import sys\n",
    "sys.path.append('../../../')\n",
    "\n",
    "import settings as st"
   ]
  },
  {
   "cell_type": "code",
   "execution_count": 3,
   "metadata": {},
   "outputs": [],
   "source": [
    "sys.path.append('../../../production/data-scraping/utilities')\n",
    "\n",
    "import web_utilities as wu\n",
    "import database_utilities as du\n",
    "import encoder_utilities as eu\n",
    "import pd_utilities as pu"
   ]
  },
  {
   "cell_type": "code",
   "execution_count": 4,
   "metadata": {},
   "outputs": [],
   "source": [
    "db_host = st.database['local']['host']\n",
    "db_port = st.database['local']['port']\n",
    "db_user = st.database['local']['user']\n",
    "db_pass = st.database['local']['pass']\n",
    "db_sys = st.database['local']['system']\n",
    "db_db = st.database['local']['db']"
   ]
  },
  {
   "cell_type": "code",
   "execution_count": 5,
   "metadata": {},
   "outputs": [],
   "source": [
    "key = \"41b145a848f4bd67\"\n",
    "\n",
    "url = \"http://lscluster.hockeytech.com/feed/?feed=modulekit&view=seasons&key={0}&fmt=json&client_code=whl&lang=en&league_code=&fmt=json\".format(key)"
   ]
  },
  {
   "cell_type": "code",
   "execution_count": 6,
   "metadata": {},
   "outputs": [],
   "source": [
    "json_data = wu.return_json(url)"
   ]
  },
  {
   "cell_type": "code",
   "execution_count": 7,
   "metadata": {},
   "outputs": [],
   "source": [
    "df = pd.DataFrame(json_data['SiteKit']['Seasons'])"
   ]
  },
  {
   "cell_type": "code",
   "execution_count": 8,
   "metadata": {},
   "outputs": [],
   "source": [
    "df[\"career\"] = pd.to_numeric(df[\"career\"])\n",
    "df[\"playoff\"] = pd.to_numeric(df[\"playoff\"])\n",
    "df[\"season_id\"] = pd.to_numeric(df[\"season_id\"])\n",
    "df[\"start_date\"] = pd.to_datetime(df[\"start_date\"])\n",
    "df[\"end_date\"] = pd.to_datetime(df[\"end_date\"])"
   ]
  },
  {
   "cell_type": "code",
   "execution_count": 9,
   "metadata": {},
   "outputs": [],
   "source": [
    "if write_mode == 'append':\n",
    "    index = du.get_table_new_id(db_sys, db_user, db_pass, db_host, db_port, db_db, target_table, 'index')\n",
    "    df.insert(0, 'index', df.index + index)\n",
    "else:\n",
    "    df.insert(0, 'index', df.index)"
   ]
  },
  {
   "cell_type": "code",
   "execution_count": 10,
   "metadata": {},
   "outputs": [],
   "source": [
    "du.write_df_to_database(df, target_table, db_sys, db_user, db_pass, db_host, db_port, db_db, write_mode, False)"
   ]
  }
 ],
 "metadata": {
  "kernelspec": {
   "display_name": "Python 3",
   "language": "python",
   "name": "python3"
  },
  "language_info": {
   "codemirror_mode": {
    "name": "ipython",
    "version": 3
   },
   "file_extension": ".py",
   "mimetype": "text/x-python",
   "name": "python",
   "nbconvert_exporter": "python",
   "pygments_lexer": "ipython3",
   "version": "3.7.1"
  }
 },
 "nbformat": 4,
 "nbformat_minor": 2
}
