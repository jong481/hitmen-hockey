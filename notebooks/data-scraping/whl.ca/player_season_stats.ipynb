{
 "cells": [
  {
   "cell_type": "code",
   "execution_count": null,
   "metadata": {},
   "outputs": [],
   "source": [
    "%run ../utilities/web_utilities.ipynb\n",
    "%run ../utilities/database_utilities.ipynb\n",
    "%run ../utilities/encoder_utilities.ipynb\n",
    "%run ../utilities/pd_utilities.ipynb"
   ]
  },
  {
   "cell_type": "code",
   "execution_count": null,
   "metadata": {},
   "outputs": [],
   "source": [
    "write_mode = 'replace'\n",
    "target_table = 'whl_player_season_stats'"
   ]
  },
  {
   "cell_type": "code",
   "execution_count": null,
   "metadata": {},
   "outputs": [],
   "source": [
    "import pandas as pd\n",
    "import numpy as np\n",
    "import sys\n",
    "sys.path.append('../../../')\n",
    "\n",
    "import settings as st"
   ]
  },
  {
   "cell_type": "code",
   "execution_count": null,
   "metadata": {},
   "outputs": [],
   "source": [
    "import pandas as pd\n",
    "pd.set_option('display.max_rows', 500)\n",
    "pd.set_option('display.max_columns', 500)\n",
    "pd.set_option('display.width', 1000)"
   ]
  },
  {
   "cell_type": "code",
   "execution_count": null,
   "metadata": {},
   "outputs": [],
   "source": [
    "db_host = st.database['local']['host']\n",
    "db_port = st.database['local']['port']\n",
    "db_user = st.database['local']['user']\n",
    "db_pass = st.database['local']['pass']\n",
    "db_sys = st.database['local']['system']\n",
    "db_db = st.database['local']['db']"
   ]
  },
  {
   "cell_type": "code",
   "execution_count": null,
   "metadata": {},
   "outputs": [],
   "source": [
    "key = \"41b145a848f4bd67\""
   ]
  },
  {
   "cell_type": "code",
   "execution_count": null,
   "metadata": {},
   "outputs": [],
   "source": [
    "sql = \"SELECT DISTINCT player_id FROM whl_team_roster_by_season WHERE player_id IS NOT NULL ORDER BY player_id ASC\"\n",
    "res = query_database_to_list(db_sys, db_user, db_pass, db_host, db_port, db_db, sql)"
   ]
  },
  {
   "cell_type": "code",
   "execution_count": null,
   "metadata": {},
   "outputs": [],
   "source": [
    "master_df = pd.DataFrame()"
   ]
  },
  {
   "cell_type": "code",
   "execution_count": null,
   "metadata": {
    "scrolled": true
   },
   "outputs": [],
   "source": [
    "i = 1\n",
    "for r in res:\n",
    "    player_id = str(r['player_id']).replace(\".0\", \"\")\n",
    "    \n",
    "    print(i, player_id)\n",
    "    \n",
    "    url = \"http://lscluster.hockeytech.com/feed/?feed=modulekit&view=player&key={0}&fmt=json&client_code=whl&lang=en&player_id={1}&category=seasonstats\".format(key, player_id)\n",
    "    \n",
    "    json_data = return_json(url)\n",
    "    \n",
    "    player_df = pd.DataFrame()\n",
    "    \n",
    "    try:\n",
    "        playoff_df = pd.DataFrame(json_data['SiteKit']['Player']['playoff'])\n",
    "        playoff_df = playoff_df[playoff_df.shortname != \"total\"]\n",
    "        playoff_df['season_type'] = 'Playoff'\n",
    "        \n",
    "        player_df = player_df.append(playoff_df)\n",
    "    except:\n",
    "        pass\n",
    "    \n",
    "    try:\n",
    "        regular_df = pd.DataFrame(json_data['SiteKit']['Player']['regular'])\n",
    "        regular_df = regular_df[regular_df.shortname != \"total\"]\n",
    "        regular_df['season_type'] = 'Regular'\n",
    "\n",
    "        player_df = player_df.append(regular_df)\n",
    "    except:\n",
    "        pass\n",
    "    \n",
    "    master_df = master_df.append(player_df)\n",
    "    \n",
    "    i+=1"
   ]
  },
  {
   "cell_type": "code",
   "execution_count": null,
   "metadata": {},
   "outputs": [],
   "source": [
    "master_df = master_df.reset_index(drop=True)"
   ]
  },
  {
   "cell_type": "code",
   "execution_count": null,
   "metadata": {},
   "outputs": [],
   "source": [
    "if write_mode == 'append':\n",
    "    index = get_table_new_id(db_sys, db_user, db_pass, db_host, db_port, db_db, target_table, 'index')\n",
    "    master_df.insert(0, 'index', master_df.index + index)\n",
    "else:\n",
    "    master_df.insert(0, 'index', master_df.index)"
   ]
  },
  {
   "cell_type": "code",
   "execution_count": null,
   "metadata": {},
   "outputs": [],
   "source": [
    "master_df"
   ]
  },
  {
   "cell_type": "code",
   "execution_count": null,
   "metadata": {},
   "outputs": [],
   "source": [
    "write_df_to_database(master_df, target_table, db_sys, db_user, db_pass, db_host, db_port, db_db, write_mode, False)"
   ]
  }
 ],
 "metadata": {
  "kernelspec": {
   "display_name": "Python 3",
   "language": "python",
   "name": "python3"
  },
  "language_info": {
   "codemirror_mode": {
    "name": "ipython",
    "version": 3
   },
   "file_extension": ".py",
   "mimetype": "text/x-python",
   "name": "python",
   "nbconvert_exporter": "python",
   "pygments_lexer": "ipython3",
   "version": "3.7.1"
  }
 },
 "nbformat": 4,
 "nbformat_minor": 2
}
