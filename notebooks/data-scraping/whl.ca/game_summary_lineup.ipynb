{
 "cells": [
  {
   "cell_type": "code",
   "execution_count": null,
   "metadata": {},
   "outputs": [],
   "source": [
    "import pandas as pd\n",
    "import numpy as np\n",
    "import sys\n",
    "sys.path.append('../../../')\n",
    "\n",
    "import settings as st\n",
    "import datetime"
   ]
  },
  {
   "cell_type": "code",
   "execution_count": null,
   "metadata": {},
   "outputs": [],
   "source": [
    "sys.path.append('../../../production/data-scraping/utilities')\n",
    "\n",
    "import web_utilities as wu\n",
    "import database_utilities as du\n",
    "import encoder_utilities as eu\n",
    "import pd_utilities as pu"
   ]
  },
  {
   "cell_type": "code",
   "execution_count": null,
   "metadata": {},
   "outputs": [],
   "source": [
    "import pandas as pd\n",
    "pd.set_option('display.max_rows', 500)\n",
    "pd.set_option('display.max_columns', 500)\n",
    "pd.set_option('display.width', 1000)"
   ]
  },
  {
   "cell_type": "code",
   "execution_count": null,
   "metadata": {},
   "outputs": [],
   "source": [
    "db_host = st.database['local']['host']\n",
    "db_port = st.database['local']['port']\n",
    "db_user = st.database['local']['user']\n",
    "db_pass = st.database['local']['pass']\n",
    "db_sys = st.database['local']['system']\n",
    "db_db = st.database['local']['db']"
   ]
  },
  {
   "cell_type": "code",
   "execution_count": null,
   "metadata": {},
   "outputs": [],
   "source": [
    "print(\"START PROCESS: \" + str(datetime.datetime.now()))"
   ]
  },
  {
   "cell_type": "code",
   "execution_count": null,
   "metadata": {},
   "outputs": [],
   "source": [
    "key = \"41b145a848f4bd67\""
   ]
  },
  {
   "cell_type": "code",
   "execution_count": null,
   "metadata": {},
   "outputs": [],
   "source": [
    "season_id = None"
   ]
  },
  {
   "cell_type": "code",
   "execution_count": null,
   "metadata": {},
   "outputs": [],
   "source": [
    "if season_id == None:\n",
    "    sql = \"SELECT DISTINCT id FROM whl_schedule_by_season order by id asc\"\n",
    "else:\n",
    "    sql = \"SELECT DISTINCT id FROM whl_schedule_by_season where season_id = {0} order by id asc\".format(season_id)\n",
    "res = du.query_database_to_list(db_sys, db_user, db_pass, db_host, db_port, db_db, sql)"
   ]
  },
  {
   "cell_type": "code",
   "execution_count": null,
   "metadata": {},
   "outputs": [],
   "source": [
    "du.truncate_table(db_sys, db_user, db_pass, db_host, db_port, db_db, 'stg_whl_game_summary_lineup')"
   ]
  },
  {
   "cell_type": "code",
   "execution_count": null,
   "metadata": {},
   "outputs": [],
   "source": [
    "master_lineup_df = pu.empty_df()"
   ]
  },
  {
   "cell_type": "code",
   "execution_count": null,
   "metadata": {},
   "outputs": [],
   "source": [
    "i = 0\n",
    "\n",
    "for r in res:\n",
    "    game_id = r['id']\n",
    "    \n",
    "    print(i, game_id)\n",
    "    \n",
    "    url = \"http://cluster.leaguestat.com/feed/index.php?feed=gc&key={0}&client_code=whl&game_id={1}&lang_code=en&fmt=json&tab=gamesummary\".format(key, game_id)\n",
    "    \n",
    "    json_data = wu.return_json(url)\n",
    "       \n",
    "    ### Lineup\n",
    "    \n",
    "    df_lineup = pu.empty_df()\n",
    "\n",
    "    home_goalies = pd.DataFrame(json_data['GC']['Gamesummary']['home_team_lineup']['goalies'])\n",
    "    home_goalies['team'] = 'home'\n",
    "    home_goalies['type'] = 'goalie'\n",
    "    home_players = pd.DataFrame(json_data['GC']['Gamesummary']['home_team_lineup']['players'])\n",
    "    home_players['team'] = 'home'\n",
    "    home_players['type'] = 'player'\n",
    "    away_goalies = pd.DataFrame(json_data['GC']['Gamesummary']['visitor_team_lineup']['goalies'])\n",
    "    away_goalies['team'] = 'away'\n",
    "    away_goalies['type'] = 'goalie'\n",
    "    away_players = pd.DataFrame(json_data['GC']['Gamesummary']['visitor_team_lineup']['players'])\n",
    "    away_players['team'] = 'away'\n",
    "    away_players['type'] = 'player'\n",
    "\n",
    "    df_lineup = df_lineup.append(home_goalies)\n",
    "    df_lineup = df_lineup.append(home_players)\n",
    "    df_lineup = df_lineup.append(away_goalies)\n",
    "    df_lineup = df_lineup.append(away_players)\n",
    "\n",
    "    df_lineup['game_id'] = game_id\n",
    "    master_lineup_df = master_lineup_df.append(df_lineup)\n",
    "    \n",
    "    i += 1\n",
    "    \n",
    "    if (i%5000)==0:\n",
    "        du.write_df_to_database(master_lineup_df, 'stg_whl_game_summary_lineup', db_sys, db_user, db_pass, db_host, db_port, db_db, 'append', False)\n",
    "\n",
    "        master_lineup_df = pu.empty_df()"
   ]
  },
  {
   "cell_type": "code",
   "execution_count": null,
   "metadata": {},
   "outputs": [],
   "source": [
    "du.write_df_to_database(master_lineup_df, 'stg_whl_game_summary_lineup', db_sys, db_user, db_pass, db_host, db_port, db_db, 'append', False)"
   ]
  },
  {
   "cell_type": "code",
   "execution_count": null,
   "metadata": {},
   "outputs": [],
   "source": [
    "print(\"END PROCESS: \" + str(datetime.datetime.now()))"
   ]
  }
 ],
 "metadata": {
  "kernelspec": {
   "display_name": "Python 3",
   "language": "python",
   "name": "python3"
  },
  "language_info": {
   "codemirror_mode": {
    "name": "ipython",
    "version": 3
   },
   "file_extension": ".py",
   "mimetype": "text/x-python",
   "name": "python",
   "nbconvert_exporter": "python",
   "pygments_lexer": "ipython3",
   "version": "3.7.1"
  }
 },
 "nbformat": 4,
 "nbformat_minor": 2
}
