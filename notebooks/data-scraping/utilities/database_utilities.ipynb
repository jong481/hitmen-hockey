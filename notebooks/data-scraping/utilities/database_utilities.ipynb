{
 "cells": [
  {
   "cell_type": "code",
   "execution_count": 13,
   "metadata": {},
   "outputs": [],
   "source": [
    "import warnings\n",
    "warnings.filterwarnings('ignore')"
   ]
  },
  {
   "cell_type": "code",
   "execution_count": 2,
   "metadata": {},
   "outputs": [],
   "source": [
    "from sqlalchemy import create_engine\n",
    "import pandas as pd\n",
    "import psycopg2\n",
    "import psycopg2.extras\n",
    "\n",
    "def write_df_to_database(df, tableName, system, user, pw, host, port, database, ifExists='replace', indexBoolean=False):\n",
    "    engine = create_engine('{0}://{1}:{2}@{3}:{4}/{5}'.format(system, user, pw, host, port, database))\n",
    "    df.to_sql(tableName, engine, if_exists=ifExists,index=indexBoolean)\n",
    "    \n",
    "def query_database_to_list(system, user, pw, host, port, database, query):\n",
    "    connection = psycopg2.connect(user=user, password=pw, host=host, port=port, database=database)\n",
    "    cursor = connection.cursor(cursor_factory=psycopg2.extras.DictCursor)\n",
    "    \n",
    "    cursor.execute(query)\n",
    "    res = cursor.fetchall()\n",
    "    connection.close()\n",
    "    \n",
    "    return res\n",
    "\n",
    "def query_database_to_df(system, user, pw, host, port, database, query):\n",
    "    engine = create_engine('{0}://{1}:{2}@{3}:{4}/{5}'.format(system, user, pw, host, port, database))\n",
    "    df = pd.read_sql(query, engine)\n",
    "    \n",
    "    return df\n",
    "\n",
    "def get_table_new_id(system, user, pw, host, port, database, table, id_column):\n",
    "    connection = psycopg2.connect(user=user, password=pw, host=host, port=port, database=database)\n",
    "    cursor = connection.cursor()\n",
    "    \n",
    "    try:\n",
    "        cursor.execute(\"SELECT MAX({0}) as max FROM {1}\".format(id_column, table))\n",
    "        res = cursor.fetchall() \n",
    "        connection.close()\n",
    "    \n",
    "        max_index = str(res[0][0]).strip()\n",
    "    except:\n",
    "        connection.close()\n",
    "        \n",
    "        max_index = 'None'\n",
    "    \n",
    "    if max_index == 'None':\n",
    "        max_index = 0\n",
    "    else:\n",
    "        max_index = int(max_index) + 1\n",
    "    \n",
    "    return max_index\n",
    "\n",
    "def truncate_table(system, user, pw, host, port, database, table):\n",
    "    connection = psycopg2.connect(user=user, password=pw, host=host, port=port, database=database)\n",
    "    cursor = connection.cursor()\n",
    "    \n",
    "    try:\n",
    "        cursor.execute(\"TRUNCATE TABLE {0}\".format(table))\n",
    "        connection.commit()\n",
    "        connection.close()\n",
    "    \n",
    "        return True\n",
    "    except:\n",
    "        connection.close()\n",
    "        return False"
   ]
  },
  {
   "cell_type": "code",
   "execution_count": null,
   "metadata": {},
   "outputs": [],
   "source": []
  }
 ],
 "metadata": {
  "kernelspec": {
   "display_name": "Python 3",
   "language": "python",
   "name": "python3"
  },
  "language_info": {
   "codemirror_mode": {
    "name": "ipython",
    "version": 3
   },
   "file_extension": ".py",
   "mimetype": "text/x-python",
   "name": "python",
   "nbconvert_exporter": "python",
   "pygments_lexer": "ipython3",
   "version": "3.7.1"
  }
 },
 "nbformat": 4,
 "nbformat_minor": 2
}
