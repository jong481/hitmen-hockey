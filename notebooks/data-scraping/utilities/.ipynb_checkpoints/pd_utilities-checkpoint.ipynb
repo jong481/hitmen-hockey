{
 "cells": [
  {
   "cell_type": "code",
   "execution_count": 16,
   "metadata": {},
   "outputs": [],
   "source": [
    "def clearNan(x):\n",
    "    if str(x) == 'nan':\n",
    "        return {}\n",
    "    else:\n",
    "        return x\n",
    "\n",
    "def clearNanToNone(x):\n",
    "    if (str(x).lower().strip()) == 'nan' or (str(x).strip() == '') or (x == None):\n",
    "        return None\n",
    "    else:\n",
    "        return x\n",
    "    \n",
    "def clearDate(x):\n",
    "    if str(x) == '0000-00-00':\n",
    "        return None\n",
    "    else: \n",
    "        return x\n",
    "    \n",
    "def clearNbsp(x):\n",
    "    if str(x) == '&nbsp;':\n",
    "        return None\n",
    "    else:\n",
    "        return x\n",
    "    \n",
    "def clearComma(x):\n",
    "    if str(x).strip() == ',':\n",
    "        return None\n",
    "    else:\n",
    "        return x"
   ]
  },
  {
   "cell_type": "code",
   "execution_count": null,
   "metadata": {},
   "outputs": [],
   "source": []
  }
 ],
 "metadata": {
  "kernelspec": {
   "display_name": "Python 3",
   "language": "python",
   "name": "python3"
  },
  "language_info": {
   "codemirror_mode": {
    "name": "ipython",
    "version": 3
   },
   "file_extension": ".py",
   "mimetype": "text/x-python",
   "name": "python",
   "nbconvert_exporter": "python",
   "pygments_lexer": "ipython3",
   "version": "3.7.1"
  }
 },
 "nbformat": 4,
 "nbformat_minor": 2
}
