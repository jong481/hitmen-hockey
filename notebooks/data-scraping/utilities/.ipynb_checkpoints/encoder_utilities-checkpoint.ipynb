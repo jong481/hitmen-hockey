{
 "cells": [
  {
   "cell_type": "code",
   "execution_count": 1,
   "metadata": {},
   "outputs": [],
   "source": [
    "import base64\n",
    "import sys\n",
    "sys.path.append('../../../')\n",
    "\n",
    "import settings as st\n",
    "\n",
    "def encode(string):\n",
    "    \n",
    "    string = string + st.encoder\n",
    "    \n",
    "    encoded = base64.b64encode(string.encode('utf-8'))\n",
    "    return encoded\n",
    "    \n",
    "def decode(string):\n",
    "    \n",
    "    decoded = base64.b64decode(string).decode('utf-8')[:-len(st.encoder)]\n",
    "    return str(decoded)"
   ]
  }
 ],
 "metadata": {
  "kernelspec": {
   "display_name": "Python 3",
   "language": "python",
   "name": "python3"
  },
  "language_info": {
   "codemirror_mode": {
    "name": "ipython",
    "version": 3
   },
   "file_extension": ".py",
   "mimetype": "text/x-python",
   "name": "python",
   "nbconvert_exporter": "python",
   "pygments_lexer": "ipython3",
   "version": "3.7.1"
  }
 },
 "nbformat": 4,
 "nbformat_minor": 2
}
