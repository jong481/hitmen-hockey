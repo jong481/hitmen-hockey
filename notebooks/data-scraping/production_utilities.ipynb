{
 "cells": [
  {
   "cell_type": "code",
   "execution_count": null,
   "metadata": {},
   "outputs": [],
   "source": [
    "# Productionalize Data Scraping Utilities\n",
    "# 1. Convert ipynb files to py files\n",
    "# 2."
   ]
  },
  {
   "cell_type": "code",
   "execution_count": 3,
   "metadata": {},
   "outputs": [],
   "source": [
    "import subprocess\n",
    "import sys\n",
    "sys.path.append('../../')\n",
    "\n",
    "import settings as st\n",
    "\n",
    "import paramiko"
   ]
  },
  {
   "cell_type": "code",
   "execution_count": 34,
   "metadata": {},
   "outputs": [],
   "source": [
    "\"\"\"\n",
    "Convert the specified list of notebooks to their corresponding targets\n",
    "\"\"\"\n",
    "\n",
    "def convert_notebook_to_py(source, target):\n",
    "    subprocess.run([\"jupyter\", \"nbconvert\", \n",
    "                \"--to\", \"script\", source, \n",
    "                \"--output\", target])\n",
    "\n",
    "process_list = [\n",
    "    ['/Users/jedidiahong/Documents/GitHub/hitmen-hockey/notebooks/data-scraping/utilities/database_utilities.ipynb', '/Users/jedidiahong/Documents/GitHub/hitmen-hockey/production/data-scraping/utilities/database_utilities'],\n",
    "    ['/Users/jedidiahong/Documents/GitHub/hitmen-hockey/notebooks/data-scraping/utilities/encoder_utilities.ipynb', '/Users/jedidiahong/Documents/GitHub/hitmen-hockey/production/data-scraping/utilities/encoder_utilities'],\n",
    "    ['/Users/jedidiahong/Documents/GitHub/hitmen-hockey/notebooks/data-scraping/utilities/pd_utilities.ipynb', '/Users/jedidiahong/Documents/GitHub/hitmen-hockey/production/data-scraping/utilities/pd_utilities'],\n",
    "    ['/Users/jedidiahong/Documents/GitHub/hitmen-hockey/notebooks/data-scraping/utilities/web_utilities.ipynb', '/Users/jedidiahong/Documents/GitHub/hitmen-hockey/production/data-scraping/utilities/web_utilities']\n",
    "]\n",
    "\n",
    "for p in process_list:\n",
    "    source = p[0]\n",
    "    target = p[1]\n",
    "    \n",
    "    convert_notebook_to_py(source, target)"
   ]
  },
  {
   "cell_type": "code",
   "execution_count": null,
   "metadata": {},
   "outputs": [],
   "source": [
    "\"\"\"\n",
    "Copy the specified list of scripts to the server\n",
    "\"\"\"\n",
    "\n",
    "sys.path.append('../../production/data-scraping/utilities')\n",
    "\n",
    "import encoder_utilities as eu\n",
    "\n",
    "prod_host = st.vm['do-ubuntu']['host']\n",
    "prod_user = st.vm['do-ubuntu']['user']\n",
    "prod_pass = eu.decode(st.vm['do-ubuntu']['pass'])\n",
    "\n",
    "process_list = [\n",
    "    ['/Users/jedidiahong/Documents/GitHub/hitmen-hockey/production/data-scraping/utilities/database_utilities.py'],\n",
    "    ['/Users/jedidiahong/Documents/GitHub/hitmen-hockey/production/data-scraping/utilities/encoder_utilities.py'],\n",
    "    ['/Users/jedidiahong/Documents/GitHub/hitmen-hockey/production/data-scraping/utilities/pd_utilities.py'],\n",
    "    ['/Users/jedidiahong/Documents/GitHub/hitmen-hockey/production/data-scraping/utilities/web_utilities.py']\n",
    "]\n",
    "\n",
    "#/home/do-user/projects/hitmen_hockey/production/data-scraping/utilities"
   ]
  },
  {
   "cell_type": "code",
   "execution_count": 23,
   "metadata": {},
   "outputs": [],
   "source": []
  },
  {
   "cell_type": "code",
   "execution_count": 24,
   "metadata": {},
   "outputs": [],
   "source": [
    "import paramiko\n",
    "from scp import SCPClient\n",
    "\n",
    "def createSSHClient(server, port, user, password):\n",
    "    client = paramiko.SSHClient()\n",
    "    client.load_system_host_keys()\n",
    "    client.set_missing_host_key_policy(paramiko.AutoAddPolicy())\n",
    "    client.connect(server, port, user, password)\n",
    "    return client\n",
    "\n",
    "ssh = createSSHClient(prod_host, 22, prod_user, eu.decode(prod_pass))\n",
    "scp = SCPClient(ssh.get_transport())"
   ]
  },
  {
   "cell_type": "code",
   "execution_count": 29,
   "metadata": {},
   "outputs": [],
   "source": [
    "scp.put()\n",
    "\n",
    "scp.close()"
   ]
  },
  {
   "cell_type": "code",
   "execution_count": null,
   "metadata": {},
   "outputs": [],
   "source": []
  }
 ],
 "metadata": {
  "kernelspec": {
   "display_name": "Python 3",
   "language": "python",
   "name": "python3"
  },
  "language_info": {
   "codemirror_mode": {
    "name": "ipython",
    "version": 3
   },
   "file_extension": ".py",
   "mimetype": "text/x-python",
   "name": "python",
   "nbconvert_exporter": "python",
   "pygments_lexer": "ipython3",
   "version": "3.7.1"
  }
 },
 "nbformat": 4,
 "nbformat_minor": 2
}
