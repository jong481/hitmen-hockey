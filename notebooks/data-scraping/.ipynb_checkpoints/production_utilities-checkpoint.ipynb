{
 "cells": [
  {
   "cell_type": "code",
   "execution_count": 14,
   "metadata": {},
   "outputs": [],
   "source": [
    "# Productionalize Data Scraping Utilities\n",
    "# 1. Convert ipynb files to py files\n",
    "# 2. Copy py files to server\n",
    "# 3. Chmod server files"
   ]
  },
  {
   "cell_type": "code",
   "execution_count": 15,
   "metadata": {},
   "outputs": [],
   "source": [
    "import subprocess\n",
    "import sys\n",
    "sys.path.append('../../')\n",
    "\n",
    "import settings as st\n",
    "\n",
    "import paramiko"
   ]
  },
  {
   "cell_type": "code",
   "execution_count": 16,
   "metadata": {},
   "outputs": [],
   "source": [
    "script_list = [\n",
    "    'database_utilities', \n",
    "    'encoder_utilities', \n",
    "    'pd_utilities', \n",
    "    'web_utilities'\n",
    "]"
   ]
  },
  {
   "cell_type": "code",
   "execution_count": 17,
   "metadata": {},
   "outputs": [],
   "source": [
    "\"\"\"\n",
    "Convert the specified list of notebooks to their corresponding targets\n",
    "\"\"\"\n",
    "\n",
    "def convert_notebook_to_py(source, target):\n",
    "    subprocess.run([\"jupyter\", \"nbconvert\", \n",
    "                \"--to\", \"script\", source, \n",
    "                \"--output\", target])\n",
    "\n",
    "for p in script_list:\n",
    "    source = '/Users/jedidiahong/Documents/GitHub/hitmen-hockey/notebooks/data-scraping/utilities/{0}.ipynb'.format(p)\n",
    "    target = '/Users/jedidiahong/Documents/GitHub/hitmen-hockey/production/data-scraping/utilities/{0}'.format(p)\n",
    "    \n",
    "    convert_notebook_to_py(source, target)"
   ]
  },
  {
   "cell_type": "code",
   "execution_count": 18,
   "metadata": {},
   "outputs": [],
   "source": [
    "sys.path.append('../../production/data-scraping/utilities')\n",
    "\n",
    "import encoder_utilities as eu\n",
    "\n",
    "prod_host = st.vm['do-ubuntu']['host']\n",
    "prod_user = st.vm['do-ubuntu']['user']\n",
    "prod_pass = eu.decode(st.vm['do-ubuntu']['pass'])"
   ]
  },
  {
   "cell_type": "code",
   "execution_count": 19,
   "metadata": {},
   "outputs": [],
   "source": [
    "\"\"\"\n",
    "Copy the specified list of scripts to the server\n",
    "\"\"\"\n",
    "\n",
    "import paramiko\n",
    "from scp import SCPClient\n",
    "\n",
    "def createSSHClient(server, port, user, password):\n",
    "    client = paramiko.SSHClient()\n",
    "    client.load_system_host_keys()\n",
    "    client.set_missing_host_key_policy(paramiko.AutoAddPolicy())\n",
    "    client.connect(server, port, user, password)\n",
    "    return client\n",
    "\n",
    "ssh = createSSHClient(prod_host, 22, prod_user, prod_pass)\n",
    "scp = SCPClient(ssh.get_transport())\n",
    "\n",
    "for p in script_list:\n",
    "    source = '/Users/jedidiahong/Documents/GitHub/hitmen-hockey/production/data-scraping/utilities/{0}.py'.format(p)\n",
    "    target = '/home/do-user/projects/hitmen_hockey/production/data-scraping/utilities/{0}.py'.format(p)\n",
    "    \n",
    "    scp.put(source, target)\n",
    "    \n",
    "scp.close()"
   ]
  },
  {
   "cell_type": "code",
   "execution_count": 20,
   "metadata": {},
   "outputs": [
    {
     "name": "stdout",
     "output_type": "stream",
     "text": [
      "('', '')\n",
      "('', '')\n",
      "('', '')\n",
      "('', '')\n"
     ]
    }
   ],
   "source": [
    "\"\"\"\n",
    "Chmod for the list of scripts copied to the server\n",
    "\"\"\"\n",
    "\n",
    "def executeSSHCommand(server, port, user, password, command):\n",
    "    client = paramiko.SSHClient()\n",
    "    client.set_missing_host_key_policy(paramiko.AutoAddPolicy())\n",
    "\n",
    "    client.connect(server, port, user, password)\n",
    "    shell = client.invoke_shell()\n",
    "    \n",
    "    _, stdout, stderr = client.exec_command(command)\n",
    "    \n",
    "    stdout = stdout.read().decode()\n",
    "    stderr = stderr.read().decode()\n",
    "\n",
    "    shell.close()\n",
    "    client.close()\n",
    "\n",
    "    return stdout, stderr\n",
    "\n",
    "for p in script_list:\n",
    "    file = '/home/do-user/projects/hitmen_hockey/production/data-scraping/utilities/{0}.py'.format(p)\n",
    "    command = \"chmod 755 {0}\".format(file)\n",
    "    \n",
    "    stdout = executeSSHCommand(prod_host, 22, prod_user, prod_pass, command)\n",
    "    print(stdout)"
   ]
  }
 ],
 "metadata": {
  "kernelspec": {
   "display_name": "Python 3",
   "language": "python",
   "name": "python3"
  },
  "language_info": {
   "codemirror_mode": {
    "name": "ipython",
    "version": 3
   },
   "file_extension": ".py",
   "mimetype": "text/x-python",
   "name": "python",
   "nbconvert_exporter": "python",
   "pygments_lexer": "ipython3",
   "version": "3.7.1"
  }
 },
 "nbformat": 4,
 "nbformat_minor": 2
}
