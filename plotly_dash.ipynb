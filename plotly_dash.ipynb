{
 "cells": [
  {
   "cell_type": "code",
   "execution_count": null,
   "metadata": {},
   "outputs": [],
   "source": [
    "#https://github.com/plotly/dash-recipes"
   ]
  },
  {
   "cell_type": "code",
   "execution_count": 10,
   "metadata": {},
   "outputs": [],
   "source": [
    "import jupyterlab_dash\n",
    "import dash\n",
    "import dash_html_components as html\n",
    "import dash_core_components as dcc\n",
    "from dash.dependencies import Input, Output"
   ]
  },
  {
   "cell_type": "code",
   "execution_count": 11,
   "metadata": {},
   "outputs": [],
   "source": [
    "viewer = jupyterlab_dash.AppViewer()\n",
    "app = dash.Dash(__name__)"
   ]
  },
  {
   "cell_type": "code",
   "execution_count": 14,
   "metadata": {},
   "outputs": [
    {
     "name": "stderr",
     "output_type": "stream",
     "text": [
      "/anaconda3/lib/python3.7/site-packages/psycopg2/__init__.py:144: UserWarning:\n",
      "\n",
      "The psycopg2 wheel package will be renamed from release 2.8; in order to keep installing from binary please use \"pip install psycopg2-binary\" instead. For details see: <http://initd.org/psycopg/docs/install.html#binary-install-from-pypi>.\n",
      "\n"
     ]
    }
   ],
   "source": [
    "import psycopg2"
   ]
  },
  {
   "cell_type": "code",
   "execution_count": 17,
   "metadata": {},
   "outputs": [],
   "source": [
    "connection = psycopg2.connect(user = \"hitmen_hockey\",\n",
    "                              password = \"hitmen_hockey\",\n",
    "                              host = \"localhost\",\n",
    "                              port = \"5432\",\n",
    "                              database = \"Hitmen_Hockey\")"
   ]
  },
  {
   "cell_type": "code",
   "execution_count": 18,
   "metadata": {},
   "outputs": [],
   "source": [
    "cursor = connection.cursor()"
   ]
  },
  {
   "cell_type": "code",
   "execution_count": 19,
   "metadata": {},
   "outputs": [],
   "source": [
    "cursor.execute(\"SELECT * FROM hitmen_hockey_03062019 limit 10\")"
   ]
  },
  {
   "cell_type": "code",
   "execution_count": 20,
   "metadata": {},
   "outputs": [],
   "source": [
    "res = cursor.fetchall()"
   ]
  },
  {
   "cell_type": "code",
   "execution_count": 21,
   "metadata": {},
   "outputs": [
    {
     "name": "stdout",
     "output_type": "stream",
     "text": [
      "('0', 1.0, 1.0, 'Line 3', '1', '01PER1SEPT22, Line 3 001', 'Line 3', None, None, None, None, None, None, None, None, None, 'Even', None, None, '12 Kastelic, 17 Campbell, 24 Coleman, 5 van de Leest, 8 Yeryomenko', None, '12 Kastelic, 17 Campbell, 24 Coleman, 5 van de Leest, 8 Yeryomenko', None, None, None, None, None, None)\n",
      "('1', 1.0, 1.0, 'D Pair 2', '2', '01PER1SEPT22, D Pair 2 001', 'D Pair 2', None, None, None, None, None, None, None, None, None, 'Even', None, None, '12 Kastelic, 16 Kryski, 17 Campbell, 18 Stotts, 23 Huber, 24 Coleman, 5 van de Leest, 8 Yeryomenko', None, '12 Kastelic, 16 Kryski, 17 Campbell, 18 Stotts, 23 Huber, 24 Coleman, 5 van de Leest, 8 Yeryomenko', None, None, None, None, None, None)\n",
      "('2', 1.0, 1.0, 'Faceoffs12 Kastelic', '3', '01PER1SEPT22, Faceoffs 001', 'Faceoffs', '12 Kastelic', None, 'loss', None, None, None, None, None, None, 'Even', 'nz', None, '12 Kastelic, 17 Campbell, 24 Coleman, 5 van de Leest, 8 Yeryomenko', None, '12 Kastelic, 17 Campbell, 24 Coleman, 5 van de Leest, 8 Yeryomenko', None, None, None, None, None, None)\n",
      "('3', 1.0, 1.0, 'TOI Scouted', '4', '01PER1SEPT22, TOI Scouted 001', 'TOI Scouted', None, None, None, None, None, None, None, None, None, 'Even', None, None, '11 Zimmerman, 12 Kastelic, 14 Korczak, 15 Nielsen, 16 Kryski, 17 Campbell, 18 Stotts, 19 Focht, 21 Fiddler Schultz, 23 Huber, 24 Coleman, 28 Weisblatt, 3 Schmiemann, 4 Toder, 5 van de Leest, 6 Prokop, 8 Yeryomenko, 9 Zamula', None, '11 Zimmerman, 12 Kastelic, 14 Korczak, 15 Nielsen, 16 Kryski, 17 Campbell, 18 Stotts, 19 Focht, 21 Fiddler Schultz, 23 Huber, 24 Coleman, 28 Weisblatt, 3 Schmiemann, 4 Toder, 5 van de Leest, 6 Prokop, 8 Yeryomenko, 9 Zamula', None, None, None, None, '1200', '0')\n",
      "('4', 1.0, 1.0, 'NZ Forecheck', '5', '01PER1SEPT22, NZ Forecheck 001', 'NZ Forecheck', None, None, None, None, None, None, None, None, None, 'Even', None, None, '12 Kastelic, 17 Campbell, 24 Coleman, 5 van de Leest, 8 Yeryomenko', None, '12 Kastelic, 17 Campbell, 24 Coleman, 5 van de Leest, 8 Yeryomenko', None, None, None, None, None, None)\n",
      "('5', 1.0, 1.0, 'Blocked Shot5 van de Leest', '6', '01PER1SEPT22, BLOCKED SHOT 001', 'Blocked Shot', '5 van de Leest', None, None, None, None, None, None, None, None, 'Even', None, None, '12 Kastelic, 17 Campbell, 24 Coleman, 5 van de Leest, 8 Yeryomenko', None, '12 Kastelic, 17 Campbell, 24 Coleman, 5 van de Leest, 8 Yeryomenko', None, None, None, None, None, None)\n",
      "('6', 1.0, 1.0, 'Dzone Coverage', '7', '01PER1SEPT22, Dzone Coverage 001', 'Dzone Coverage', None, None, None, None, None, None, None, None, None, 'Even', None, None, '12 Kastelic, 17 Campbell, 24 Coleman, 5 van de Leest, 8 Yeryomenko', None, '12 Kastelic, 17 Campbell, 24 Coleman, 5 van de Leest, 8 Yeryomenko', None, None, None, None, None, None)\n",
      "('7', 1.0, 1.0, 'Zone Exit5 van de Leest', '8', '01PER1SEPT22, Zone Exit 001', 'Zone Exit', '5 van de Leest', None, None, None, None, None, None, None, None, 'Even', None, None, '12 Kastelic, 17 Campbell, 24 Coleman, 5 van de Leest, 8 Yeryomenko', None, '12 Kastelic, 17 Campbell, 24 Coleman, 5 van de Leest, 8 Yeryomenko', None, '1 - Direct Pass', None, None, None, None)\n",
      "('8', 1.0, 1.0, 'BAD ENTRY', '9', '01PER1SEPT22, BAD ENTRY 001', 'BAD ENTRY', None, None, None, None, None, None, None, None, None, 'Even', None, None, '12 Kastelic, 17 Campbell, 24 Coleman, 5 van de Leest, 8 Yeryomenko', None, '12 Kastelic, 17 Campbell, 24 Coleman, 5 van de Leest, 8 Yeryomenko', None, None, None, None, None, None)\n",
      "('9', 1.0, 1.0, 'Line 1', '10', '01PER1SEPT22, Line 1 001', 'Line 1', None, None, None, None, None, None, None, None, None, 'Even', None, None, '16 Kryski, 18 Stotts, 23 Huber, 5 van de Leest, 6 Prokop, 8 Yeryomenko, 9 Zamula', None, '16 Kryski, 18 Stotts, 23 Huber, 5 van de Leest, 6 Prokop, 8 Yeryomenko, 9 Zamula', None, None, None, None, None, None)\n"
     ]
    }
   ],
   "source": [
    "for r in res:\n",
    "    print(r)"
   ]
  },
  {
   "cell_type": "code",
   "execution_count": 12,
   "metadata": {},
   "outputs": [],
   "source": [
    "app.layout = html.Div([\n",
    "    html.Button(id='button', n_clicks=0, children='Add graph'),\n",
    "    html.Div(id='container'),\n",
    "    html.Div(dcc.Graph(id='empty', figure={'data': []}), style={'display': 'none'})\n",
    "])\n",
    "\n",
    "\n",
    "@app.callback(Output('container', 'children'), [Input('button', 'n_clicks')])\n",
    "def display_graphs(n_clicks):\n",
    "    graphs = []\n",
    "    for i in range(n_clicks):\n",
    "        graphs.append(dcc.Graph(\n",
    "            id='graph-{}'.format(i),\n",
    "            figure={\n",
    "                'data': [{\n",
    "                    'x': [1, 2, 3],\n",
    "                    'y': [3, 1, 2]\n",
    "                }],\n",
    "                'layout': {\n",
    "                    'title': 'Graph {}'.format(i)\n",
    "                }\n",
    "            }\n",
    "        ))\n",
    "    return html.Div(graphs)"
   ]
  },
  {
   "cell_type": "code",
   "execution_count": 13,
   "metadata": {},
   "outputs": [],
   "source": [
    "viewer.show(app)"
   ]
  },
  {
   "cell_type": "code",
   "execution_count": null,
   "metadata": {},
   "outputs": [],
   "source": []
  }
 ],
 "metadata": {
  "kernelspec": {
   "display_name": "Python 3",
   "language": "python",
   "name": "python3"
  },
  "language_info": {
   "codemirror_mode": {
    "name": "ipython",
    "version": 3
   },
   "file_extension": ".py",
   "mimetype": "text/x-python",
   "name": "python",
   "nbconvert_exporter": "python",
   "pygments_lexer": "ipython3",
   "version": "3.7.1"
  }
 },
 "nbformat": 4,
 "nbformat_minor": 2
}
